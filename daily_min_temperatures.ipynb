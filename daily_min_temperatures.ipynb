{
  "nbformat": 4,
  "nbformat_minor": 0,
  "metadata": {
    "colab": {
      "name": "daily_min_temperatures.ipynb",
      "provenance": [],
      "mount_file_id": "1S-XfWo_Ei6hs5OU1dBoUN32FsNssEQH0",
      "authorship_tag": "ABX9TyO9/6Odg8Zz7YxCRmF3h991"
    },
    "kernelspec": {
      "name": "python3",
      "display_name": "Python 3"
    },
    "accelerator": "GPU"
  },
  "cells": [
    {
      "cell_type": "code",
      "metadata": {
        "colab": {
          "base_uri": "https://localhost:8080/"
        },
        "id": "9e_1rnwAEXr1",
        "outputId": "b2d8e7d1-6edb-40d9-ca88-3af6ed7df3a5"
      },
      "source": [
        "from google.colab import drive\n",
        "drive.mount('/content/drive')"
      ],
      "execution_count": null,
      "outputs": [
        {
          "output_type": "stream",
          "text": [
            "Drive already mounted at /content/drive; to attempt to forcibly remount, call drive.mount(\"/content/drive\", force_remount=True).\n"
          ],
          "name": "stdout"
        }
      ]
    },
    {
      "cell_type": "code",
      "metadata": {
        "id": "lxgrfIqpEzCy"
      },
      "source": [
        "#Imports\n",
        "import tensorflow as tf\n",
        "from tensorflow import keras\n",
        "import csv\n",
        "import numpy as np\n",
        "import matplotlib.pyplot as plt"
      ],
      "execution_count": null,
      "outputs": []
    },
    {
      "cell_type": "code",
      "metadata": {
        "id": "Ap3EPO-UEsji"
      },
      "source": [
        "#datapath\n",
        "data = \"/content/drive/MyDrive/daily-minimum-temperatures-in-me.csv\""
      ],
      "execution_count": null,
      "outputs": []
    },
    {
      "cell_type": "code",
      "metadata": {
        "id": "YUj1byMCEtuO"
      },
      "source": [
        "#Split data\n",
        "temperature = []\n",
        "\n",
        "with open(data) as file:\n",
        "  reader = csv.reader(file, delimiter=\",\")\n",
        "  next(reader)\n",
        "  for row in reader:\n",
        "    try:\n",
        "      temperature.append(float(row[1]))\n",
        "    except IndexError:\n",
        "      pass\n",
        "    except ValueError:\n",
        "      pass\n",
        "\n",
        "#create list for time steps\n",
        "time_steps = [i for i in range(len(temperature))]"
      ],
      "execution_count": null,
      "outputs": []
    },
    {
      "cell_type": "code",
      "metadata": {
        "id": "eI7fWWkKFqNW"
      },
      "source": [
        "#convert the lists to array\n",
        "series = np.array(temperature)\n",
        "time = np.array(time_steps)"
      ],
      "execution_count": null,
      "outputs": []
    },
    {
      "cell_type": "code",
      "metadata": {
        "colab": {
          "base_uri": "https://localhost:8080/",
          "height": 279
        },
        "id": "3NsN6xD8HlK7",
        "outputId": "6b36cc3f-3153-450b-84a9-3b69ef956e62"
      },
      "source": [
        "#plot the series\n",
        "plt.plot(time, series)\n",
        "plt.xlabel(\"Time\")\n",
        "plt.ylabel(\"Value\")\n",
        "plt.grid(True)"
      ],
      "execution_count": null,
      "outputs": [
        {
          "output_type": "display_data",
          "data": {
            "image/png": "[encoded data removed]",
            "text/plain": [
              "<Figure size 432x288 with 1 Axes>"
            ]
          },
          "metadata": {
            "tags": [],
            "needs_background": "light"
          }
        }
      ]
    },
    {
      "cell_type": "code",
      "metadata": {
        "id": "bnHOaLQyHpj_"
      },
      "source": [
        "#split data\n",
        "split_time = 3000\n",
        "\n",
        "time_train = time[:3000]\n",
        "x_train = series[:3000]\n",
        "\n",
        "time_val = time[3000:]\n",
        "x_val = series[3000:]"
      ],
      "execution_count": null,
      "outputs": []
    },
    {
      "cell_type": "code",
      "metadata": {
        "id": "gWcLhnQ6TNpB"
      },
      "source": [
        "#Set parameteres for data windowing\n",
        "window_size = 30\n",
        "batch_size = 32\n",
        "shuffle_buffer_size = 1000"
      ],
      "execution_count": null,
      "outputs": []
    },
    {
      "cell_type": "code",
      "metadata": {
        "id": "mJu-cwCFO0NQ"
      },
      "source": [
        "#series to windowed dataset LSTM\n",
        "def window_data_LSTM(series, window_size, batch_size, shuffle_buffer_size):\n",
        "  dataset = tf.data.Dataset.from_tensor_slices(series)\n",
        "  dataset = dataset.window(window_size + 1, shift = 1, drop_remainder = True)\n",
        "  dataset = dataset.flat_map(lambda window: window.batch(window_size + 1))\n",
        "  dataset = dataset.map(lambda window: (window[:-1], window[-1]))\n",
        "  dataset = dataset.shuffle(shuffle_buffer_size)\n",
        "  dataset = dataset.batch(batch_size).prefetch(1)\n",
        "  return dataset"
      ],
      "execution_count": null,
      "outputs": []
    },
    {
      "cell_type": "code",
      "metadata": {
        "id": "BQhdoWmsdPug"
      },
      "source": [
        "#series to windowed dataset CONVOLUTION\n",
        "def window_data_CONV(series, window_size, batch_size, shuffle_buffer_size):\n",
        "  series = tf.expand_dims(series, axis=-1)\n",
        "  dataset = tf.data.Dataset.from_tensor_slices(series)\n",
        "  dataset = dataset.window(window_size + 1, shift = 1, drop_remainder = True)\n",
        "  dataset = dataset.flat_map(lambda window: window.batch(window_size + 1))\n",
        "  dataset = dataset.map(lambda window: (window[:-1], window[-1]))\n",
        "  dataset = dataset.shuffle(shuffle_buffer_size)\n",
        "  dataset = dataset.batch(batch_size).prefetch(1)\n",
        "  return dataset"
      ],
      "execution_count": null,
      "outputs": []
    },
    {
      "cell_type": "code",
      "metadata": {
        "id": "_7TtVpx1O2AB"
      },
      "source": [
        "train_data = window_data_LSTM(x_train, window_size, batch_size, shuffle_buffer_size)"
      ],
      "execution_count": null,
      "outputs": []
    },
    {
      "cell_type": "code",
      "metadata": {
        "id": "dAF529V_bY4y"
      },
      "source": [
        "tf.keras.backend.clear_session()\n",
        "tf.random.set_seed(51)\n",
        "np.random.seed(51)\n",
        "\n",
        "tf.keras.backend.clear_session()"
      ],
      "execution_count": null,
      "outputs": []
    },
    {
      "cell_type": "code",
      "metadata": {
        "id": "494cu4PxVuNB"
      },
      "source": [
        "#build the model\n",
        "model = keras.models.Sequential([\n",
        "                                 keras.layers.Lambda(lambda x: tf.expand_dims(x, axis=-1), input_shape=[None]),\n",
        "                                 keras.layers.LSTM(64, return_sequences=True),\n",
        "                                 keras.layers.LSTM(64),\n",
        "                                 keras.layers.Dense(30, activation=\"relu\"),\n",
        "                                 keras.layers.Dense(30, activation=\"relu\"),\n",
        "                                 keras.layers.Dense(1),\n",
        "                                 keras.layers.Lambda(lambda x: x * 400)\n",
        "])"
      ],
      "execution_count": null,
      "outputs": []
    },
    {
      "cell_type": "code",
      "metadata": {
        "colab": {
          "base_uri": "https://localhost:8080/"
        },
        "id": "316gh8W4YDmC",
        "outputId": "447ad411-4280-4636-d357-bc94f7e6786f"
      },
      "source": [
        "model.summary()"
      ],
      "execution_count": null,
      "outputs": [
        {
          "output_type": "stream",
          "text": [
            "Model: \"sequential\"\n",
            "_________________________________________________________________\n",
            "Layer (type)                 Output Shape              Param #   \n",
            "=================================================================\n",
            "lambda (Lambda)              (None, None, 1)           0         \n",
            "_________________________________________________________________\n",
            "lstm (LSTM)                  (None, None, 64)          16896     \n",
            "_________________________________________________________________\n",
            "lstm_1 (LSTM)                (None, 64)                33024     \n",
            "_________________________________________________________________\n",
            "dense (Dense)                (None, 30)                1950      \n",
            "_________________________________________________________________\n",
            "dense_1 (Dense)              (None, 30)                930       \n",
            "_________________________________________________________________\n",
            "dense_2 (Dense)              (None, 1)                 31        \n",
            "_________________________________________________________________\n",
            "lambda_1 (Lambda)            (None, 1)                 0         \n",
            "=================================================================\n",
            "Total params: 52,831\n",
            "Trainable params: 52,831\n",
            "Non-trainable params: 0\n",
            "_________________________________________________________________\n"
          ],
          "name": "stdout"
        }
      ]
    },
    {
      "cell_type": "code",
      "metadata": {
        "id": "D4eb-wx8ZGEn"
      },
      "source": [
        "lr_sheduler = tf.keras.callbacks.LearningRateScheduler(lambda epoch: 1e-8 * 10**(epoch / 20))"
      ],
      "execution_count": null,
      "outputs": []
    },
    {
      "cell_type": "code",
      "metadata": {
        "id": "ADLXj9ekZSTN"
      },
      "source": [
        "model.compile(loss=keras.losses.Huber(), metrics=[\"mae\"], optimizer=\"adam\")"
      ],
      "execution_count": null,
      "outputs": []
    },
    {
      "cell_type": "code",
      "metadata": {
        "colab": {
          "base_uri": "https://localhost:8080/"
        },
        "id": "D71DhrtPZ4pn",
        "outputId": "73b5463d-61c0-43cf-8da2-68b5d49d9551"
      },
      "source": [
        "tf.keras.backend.clear_session()\n",
        "tf.random.set_seed(51)\n",
        "np.random.seed(51)\n",
        "history = model.fit(train_data, epochs=100, callbacks=[lr_sheduler])"
      ],
      "execution_count": null,
      "outputs": [
        {
          "output_type": "stream",
          "text": [
            "Epoch 1/100\n",
            "93/93 [==============================] - 3s 8ms/step - loss: 216.1185 - mae: 216.6185\n",
            "Epoch 2/100\n",
            "93/93 [==============================] - 1s 8ms/step - loss: 215.4117 - mae: 215.9117\n",
            "Epoch 3/100\n",
            "93/93 [==============================] - 1s 8ms/step - loss: 215.8613 - mae: 216.3613\n",
            "Epoch 4/100\n",
            "93/93 [==============================] - 1s 8ms/step - loss: 215.4134 - mae: 215.9134\n",
            "Epoch 5/100\n",
            "93/93 [==============================] - 1s 7ms/step - loss: 216.2064 - mae: 216.7064\n",
            "Epoch 6/100\n",
            "93/93 [==============================] - 1s 8ms/step - loss: 215.0248 - mae: 215.5248\n",
            "Epoch 7/100\n",
            "93/93 [==============================] - 1s 8ms/step - loss: 215.1748 - mae: 215.6748\n",
            "Epoch 8/100\n",
            "93/93 [==============================] - 1s 8ms/step - loss: 215.1294 - mae: 215.6294\n",
            "Epoch 9/100\n",
            "93/93 [==============================] - 1s 8ms/step - loss: 214.3195 - mae: 214.8195\n",
            "Epoch 10/100\n",
            "93/93 [==============================] - 1s 8ms/step - loss: 214.3134 - mae: 214.8134\n",
            "Epoch 11/100\n",
            "93/93 [==============================] - 1s 8ms/step - loss: 213.5345 - mae: 214.0345\n",
            "Epoch 12/100\n",
            "93/93 [==============================] - 1s 8ms/step - loss: 213.9612 - mae: 214.4612\n",
            "Epoch 13/100\n",
            "93/93 [==============================] - 1s 8ms/step - loss: 213.3133 - mae: 213.8133\n",
            "Epoch 14/100\n",
            "93/93 [==============================] - 1s 8ms/step - loss: 212.5803 - mae: 213.0803\n",
            "Epoch 15/100\n",
            "93/93 [==============================] - 1s 8ms/step - loss: 212.8087 - mae: 213.3087\n",
            "Epoch 16/100\n",
            "93/93 [==============================] - 1s 8ms/step - loss: 211.4770 - mae: 211.9770\n",
            "Epoch 17/100\n",
            "93/93 [==============================] - 1s 8ms/step - loss: 210.3091 - mae: 210.8091\n",
            "Epoch 18/100\n",
            "93/93 [==============================] - 1s 8ms/step - loss: 209.9778 - mae: 210.4778\n",
            "Epoch 19/100\n",
            "93/93 [==============================] - 1s 8ms/step - loss: 208.2353 - mae: 208.7353\n",
            "Epoch 20/100\n",
            "93/93 [==============================] - 1s 8ms/step - loss: 207.3300 - mae: 207.8300\n",
            "Epoch 21/100\n",
            "93/93 [==============================] - 1s 8ms/step - loss: 206.6722 - mae: 207.1722\n",
            "Epoch 22/100\n",
            "93/93 [==============================] - 1s 8ms/step - loss: 204.8346 - mae: 205.3346\n",
            "Epoch 23/100\n",
            "93/93 [==============================] - 1s 8ms/step - loss: 203.4847 - mae: 203.9847\n",
            "Epoch 24/100\n",
            "93/93 [==============================] - 1s 8ms/step - loss: 201.4605 - mae: 201.9605\n",
            "Epoch 25/100\n",
            "93/93 [==============================] - 1s 8ms/step - loss: 200.3747 - mae: 200.8747\n",
            "Epoch 26/100\n",
            "93/93 [==============================] - 1s 8ms/step - loss: 197.3656 - mae: 197.8656\n",
            "Epoch 27/100\n",
            "93/93 [==============================] - 1s 8ms/step - loss: 194.7235 - mae: 195.2235\n",
            "Epoch 28/100\n",
            "93/93 [==============================] - 1s 8ms/step - loss: 192.9590 - mae: 193.4590\n",
            "Epoch 29/100\n",
            "93/93 [==============================] - 1s 8ms/step - loss: 189.7564 - mae: 190.2564\n",
            "Epoch 30/100\n",
            "93/93 [==============================] - 1s 8ms/step - loss: 186.5899 - mae: 187.0899\n",
            "Epoch 31/100\n",
            "93/93 [==============================] - 1s 8ms/step - loss: 181.6517 - mae: 182.1517\n",
            "Epoch 32/100\n",
            "93/93 [==============================] - 1s 8ms/step - loss: 177.7177 - mae: 178.2177\n",
            "Epoch 33/100\n",
            "93/93 [==============================] - 1s 8ms/step - loss: 172.0871 - mae: 172.5871\n",
            "Epoch 34/100\n",
            "93/93 [==============================] - 1s 8ms/step - loss: 166.7801 - mae: 167.2801\n",
            "Epoch 35/100\n",
            "93/93 [==============================] - 1s 8ms/step - loss: 159.5978 - mae: 160.0978\n",
            "Epoch 36/100\n",
            "93/93 [==============================] - 1s 8ms/step - loss: 153.2851 - mae: 153.7851\n",
            "Epoch 37/100\n",
            "93/93 [==============================] - 1s 8ms/step - loss: 145.5890 - mae: 146.0890\n",
            "Epoch 38/100\n",
            "93/93 [==============================] - 1s 8ms/step - loss: 138.0480 - mae: 138.5480\n",
            "Epoch 39/100\n",
            "93/93 [==============================] - 1s 8ms/step - loss: 130.0453 - mae: 130.5453\n",
            "Epoch 40/100\n",
            "93/93 [==============================] - 1s 8ms/step - loss: 121.1789 - mae: 121.6789\n",
            "Epoch 41/100\n",
            "93/93 [==============================] - 1s 8ms/step - loss: 113.5035 - mae: 114.0035\n",
            "Epoch 42/100\n",
            "93/93 [==============================] - 1s 8ms/step - loss: 103.3458 - mae: 103.8458\n",
            "Epoch 43/100\n",
            "93/93 [==============================] - 1s 8ms/step - loss: 94.9934 - mae: 95.4934\n",
            "Epoch 44/100\n",
            "93/93 [==============================] - 1s 8ms/step - loss: 84.3328 - mae: 84.8328\n",
            "Epoch 45/100\n",
            "93/93 [==============================] - 1s 8ms/step - loss: 75.0825 - mae: 75.5825\n",
            "Epoch 46/100\n",
            "93/93 [==============================] - 1s 8ms/step - loss: 64.6667 - mae: 65.1667\n",
            "Epoch 47/100\n",
            "93/93 [==============================] - 1s 8ms/step - loss: 54.2382 - mae: 54.7382\n",
            "Epoch 48/100\n",
            "93/93 [==============================] - 1s 8ms/step - loss: 42.1318 - mae: 42.6316\n",
            "Epoch 49/100\n",
            "93/93 [==============================] - 1s 8ms/step - loss: 29.8779 - mae: 30.3759\n",
            "Epoch 50/100\n",
            "93/93 [==============================] - 1s 8ms/step - loss: 16.9027 - mae: 17.3920\n",
            "Epoch 51/100\n",
            "93/93 [==============================] - 1s 8ms/step - loss: 9.7231 - mae: 10.2126\n",
            "Epoch 52/100\n",
            "93/93 [==============================] - 1s 8ms/step - loss: 6.8096 - mae: 7.2983\n",
            "Epoch 53/100\n",
            "93/93 [==============================] - 1s 8ms/step - loss: 4.8163 - mae: 5.3022\n",
            "Epoch 54/100\n",
            "93/93 [==============================] - 1s 8ms/step - loss: 3.0975 - mae: 3.5667\n",
            "Epoch 55/100\n",
            "93/93 [==============================] - 1s 8ms/step - loss: 2.3718 - mae: 2.8316\n",
            "Epoch 56/100\n",
            "93/93 [==============================] - 1s 8ms/step - loss: 2.1309 - mae: 2.5856\n",
            "Epoch 57/100\n",
            "93/93 [==============================] - 1s 8ms/step - loss: 2.0062 - mae: 2.4630\n",
            "Epoch 58/100\n",
            "93/93 [==============================] - 1s 8ms/step - loss: 1.9137 - mae: 2.3648\n",
            "Epoch 59/100\n",
            "93/93 [==============================] - 1s 8ms/step - loss: 1.7988 - mae: 2.2490\n",
            "Epoch 60/100\n",
            "93/93 [==============================] - 1s 8ms/step - loss: 1.7663 - mae: 2.2159\n",
            "Epoch 61/100\n",
            "93/93 [==============================] - 1s 8ms/step - loss: 1.7679 - mae: 2.2189\n",
            "Epoch 62/100\n",
            "93/93 [==============================] - 1s 8ms/step - loss: 1.7112 - mae: 2.1633\n",
            "Epoch 63/100\n",
            "93/93 [==============================] - 1s 8ms/step - loss: 1.6753 - mae: 2.1199\n",
            "Epoch 64/100\n",
            "93/93 [==============================] - 1s 8ms/step - loss: 1.6756 - mae: 2.1212\n",
            "Epoch 65/100\n",
            "93/93 [==============================] - 1s 8ms/step - loss: 1.6775 - mae: 2.1279\n",
            "Epoch 66/100\n",
            "93/93 [==============================] - 1s 8ms/step - loss: 1.6678 - mae: 2.1124\n",
            "Epoch 67/100\n",
            "93/93 [==============================] - 1s 8ms/step - loss: 1.6765 - mae: 2.1279\n",
            "Epoch 68/100\n",
            "93/93 [==============================] - 1s 8ms/step - loss: 1.6308 - mae: 2.0752\n",
            "Epoch 69/100\n",
            "93/93 [==============================] - 1s 8ms/step - loss: 1.6636 - mae: 2.1105\n",
            "Epoch 70/100\n",
            "93/93 [==============================] - 1s 8ms/step - loss: 1.6259 - mae: 2.0688\n",
            "Epoch 71/100\n",
            "93/93 [==============================] - 1s 8ms/step - loss: 1.6103 - mae: 2.0618\n",
            "Epoch 72/100\n",
            "93/93 [==============================] - 1s 8ms/step - loss: 1.6526 - mae: 2.0981\n",
            "Epoch 74/100\n",
            "93/93 [==============================] - 1s 8ms/step - loss: 1.6698 - mae: 2.1185\n",
            "Epoch 75/100\n",
            "93/93 [==============================] - 1s 8ms/step - loss: 1.6004 - mae: 2.0473\n",
            "Epoch 76/100\n",
            "93/93 [==============================] - 1s 8ms/step - loss: 1.5899 - mae: 2.0342\n",
            "Epoch 77/100\n",
            "93/93 [==============================] - 1s 8ms/step - loss: 1.5900 - mae: 2.0396\n",
            "Epoch 78/100\n",
            "93/93 [==============================] - 1s 8ms/step - loss: 1.6924 - mae: 2.1412\n",
            "Epoch 79/100\n",
            "93/93 [==============================] - 1s 8ms/step - loss: 1.5622 - mae: 2.0076\n",
            "Epoch 80/100\n",
            "93/93 [==============================] - 1s 8ms/step - loss: 1.5861 - mae: 2.0327\n",
            "Epoch 81/100\n",
            "93/93 [==============================] - 1s 8ms/step - loss: 1.6190 - mae: 2.0702\n",
            "Epoch 82/100\n",
            "93/93 [==============================] - 1s 8ms/step - loss: 1.5618 - mae: 2.0014\n",
            "Epoch 83/100\n",
            "93/93 [==============================] - 1s 8ms/step - loss: 1.6803 - mae: 2.1297\n",
            "Epoch 84/100\n",
            "93/93 [==============================] - 1s 8ms/step - loss: 1.6618 - mae: 2.1098\n",
            "Epoch 85/100\n",
            "93/93 [==============================] - 1s 8ms/step - loss: 1.7750 - mae: 2.2293\n",
            "Epoch 86/100\n",
            "93/93 [==============================] - 1s 8ms/step - loss: 1.7110 - mae: 2.1593\n",
            "Epoch 87/100\n",
            "93/93 [==============================] - 1s 8ms/step - loss: 1.7615 - mae: 2.2097\n",
            "Epoch 88/100\n",
            "93/93 [==============================] - 1s 8ms/step - loss: 1.6845 - mae: 2.1355\n",
            "Epoch 89/100\n",
            "93/93 [==============================] - 1s 8ms/step - loss: 1.6515 - mae: 2.0965\n",
            "Epoch 90/100\n",
            "93/93 [==============================] - 1s 8ms/step - loss: 1.6979 - mae: 2.1487\n",
            "Epoch 91/100\n",
            "93/93 [==============================] - 1s 8ms/step - loss: 1.6412 - mae: 2.0892\n",
            "Epoch 92/100\n",
            "93/93 [==============================] - 1s 8ms/step - loss: 1.6967 - mae: 2.1488\n",
            "Epoch 93/100\n",
            "93/93 [==============================] - 1s 8ms/step - loss: 1.8092 - mae: 2.2619\n",
            "Epoch 94/100\n",
            "93/93 [==============================] - 1s 8ms/step - loss: 1.7315 - mae: 2.1869\n",
            "Epoch 95/100\n",
            "93/93 [==============================] - 1s 8ms/step - loss: 1.6120 - mae: 2.0586\n",
            "Epoch 96/100\n",
            "93/93 [==============================] - 1s 8ms/step - loss: 1.6397 - mae: 2.0849\n",
            "Epoch 97/100\n",
            "93/93 [==============================] - 1s 8ms/step - loss: 1.6964 - mae: 2.1436\n",
            "Epoch 98/100\n",
            "93/93 [==============================] - 1s 8ms/step - loss: 1.6447 - mae: 2.0935\n",
            "Epoch 99/100\n",
            "93/93 [==============================] - 1s 8ms/step - loss: 1.6987 - mae: 2.1491\n",
            "Epoch 100/100\n",
            "93/93 [==============================] - 1s 8ms/step - loss: 1.7103 - mae: 2.1601\n"
          ],
          "name": "stdout"
        }
      ]
    },
    {
      "cell_type": "code",
      "metadata": {
        "colab": {
          "base_uri": "https://localhost:8080/",
          "height": 290
        },
        "id": "TBr_cXGzaDcR",
        "outputId": "11091252-0cb6-4398-9005-c48b71d9ae29"
      },
      "source": [
        "learning_rate = history.history[\"lr\"]\n",
        "loss = history.history[\"loss\"]\n",
        "plt.semilogx(learning_rate, loss)\n",
        "plt.axis([1e-8, 1e-4, 0, 60])"
      ],
      "execution_count": null,
      "outputs": [
        {
          "output_type": "execute_result",
          "data": {
            "text/plain": [
              "(1e-08, 0.0001, 0.0, 60.0)"
            ]
          },
          "metadata": {
            "tags": []
          },
          "execution_count": 102
        },
        {
          "output_type": "display_data",
          "data": {
            "image/png": "[encoded data removed]",
            "text/plain": [
              "<Figure size 432x288 with 1 Axes>"
            ]
          },
          "metadata": {
            "tags": [],
            "needs_background": "light"
          }
        }
      ]
    },
    {
      "cell_type": "code",
      "metadata": {
        "id": "EbrE6kcFcaAj"
      },
      "source": [
        "optimizer = keras.optimizers.Adam(lr=1e-6)"
      ],
      "execution_count": null,
      "outputs": []
    },
    {
      "cell_type": "code",
      "metadata": {
        "id": "eRRg6mYrcu0y"
      },
      "source": [
        "model.compile(loss=keras.losses.Huber(), metrics=[\"mae\"], optimizer=optimizer)"
      ],
      "execution_count": null,
      "outputs": []
    },
    {
      "cell_type": "code",
      "metadata": {
        "colab": {
          "base_uri": "https://localhost:8080/"
        },
        "id": "CNs-OaPbc77x",
        "outputId": "269b200f-8500-4c5a-ec1b-826f1eb5e2b4"
      },
      "source": [
        "tf.keras.backend.clear_session()\n",
        "tf.random.set_seed(51)\n",
        "np.random.seed(51)\n",
        "history = model.fit(train_data, epochs=100)"
      ],
      "execution_count": null,
      "outputs": [
        {
          "output_type": "stream",
          "text": [
            "Epoch 1/100\n",
            "93/93 [==============================] - 4s 8ms/step - loss: 1.5141 - mae: 1.9612\n",
            "Epoch 2/100\n",
            "93/93 [==============================] - 1s 8ms/step - loss: 1.5251 - mae: 1.9677\n",
            "Epoch 3/100\n",
            "93/93 [==============================] - 1s 8ms/step - loss: 1.5164 - mae: 1.9593\n",
            "Epoch 4/100\n",
            "93/93 [==============================] - 1s 8ms/step - loss: 1.5479 - mae: 1.9904\n",
            "Epoch 5/100\n",
            "93/93 [==============================] - 1s 8ms/step - loss: 1.5069 - mae: 1.9493\n",
            "Epoch 6/100\n",
            "93/93 [==============================] - 1s 8ms/step - loss: 1.5323 - mae: 1.9739\n",
            "Epoch 7/100\n",
            "93/93 [==============================] - 1s 8ms/step - loss: 1.5508 - mae: 1.9925\n",
            "Epoch 8/100\n",
            "93/93 [==============================] - 1s 8ms/step - loss: 1.5147 - mae: 1.9555\n",
            "Epoch 9/100\n",
            "93/93 [==============================] - 1s 8ms/step - loss: 1.5146 - mae: 1.9561\n",
            "Epoch 10/100\n",
            "93/93 [==============================] - 1s 8ms/step - loss: 1.5378 - mae: 1.9820\n",
            "Epoch 11/100\n",
            "93/93 [==============================] - 1s 8ms/step - loss: 1.5098 - mae: 1.9510\n",
            "Epoch 12/100\n",
            "93/93 [==============================] - 1s 8ms/step - loss: 1.4851 - mae: 1.9243\n",
            "Epoch 13/100\n",
            "93/93 [==============================] - 1s 8ms/step - loss: 1.5332 - mae: 1.9739\n",
            "Epoch 14/100\n",
            "93/93 [==============================] - 1s 8ms/step - loss: 1.5750 - mae: 2.0172\n",
            "Epoch 15/100\n",
            "93/93 [==============================] - 1s 8ms/step - loss: 1.5236 - mae: 1.9665\n",
            "Epoch 16/100\n",
            "93/93 [==============================] - 1s 8ms/step - loss: 1.5244 - mae: 1.9626\n",
            "Epoch 17/100\n",
            "93/93 [==============================] - 1s 8ms/step - loss: 1.4866 - mae: 1.9286\n",
            "Epoch 18/100\n",
            "93/93 [==============================] - 1s 8ms/step - loss: 1.4909 - mae: 1.9337\n",
            "Epoch 19/100\n",
            "93/93 [==============================] - 1s 8ms/step - loss: 1.5202 - mae: 1.9607\n",
            "Epoch 20/100\n",
            "93/93 [==============================] - 1s 8ms/step - loss: 1.5231 - mae: 1.9634\n",
            "Epoch 21/100\n",
            "93/93 [==============================] - 1s 8ms/step - loss: 1.4944 - mae: 1.9340\n",
            "Epoch 22/100\n",
            "93/93 [==============================] - 1s 8ms/step - loss: 1.4848 - mae: 1.9220\n",
            "Epoch 23/100\n",
            "93/93 [==============================] - 1s 8ms/step - loss: 1.5309 - mae: 1.9736\n",
            "Epoch 24/100\n",
            "93/93 [==============================] - 1s 8ms/step - loss: 1.5212 - mae: 1.9623\n",
            "Epoch 25/100\n",
            "93/93 [==============================] - 1s 8ms/step - loss: 1.4874 - mae: 1.9271\n",
            "Epoch 26/100\n",
            "93/93 [==============================] - 1s 8ms/step - loss: 1.4554 - mae: 1.8938\n",
            "Epoch 27/100\n",
            "93/93 [==============================] - 1s 8ms/step - loss: 1.5210 - mae: 1.9625\n",
            "Epoch 28/100\n",
            "93/93 [==============================] - 1s 8ms/step - loss: 1.5250 - mae: 1.9672\n",
            "Epoch 29/100\n",
            "93/93 [==============================] - 1s 8ms/step - loss: 1.5210 - mae: 1.9618\n",
            "Epoch 30/100\n",
            "93/93 [==============================] - 1s 8ms/step - loss: 1.5277 - mae: 1.9673\n",
            "Epoch 31/100\n",
            "93/93 [==============================] - 1s 8ms/step - loss: 1.4950 - mae: 1.9354\n",
            "Epoch 32/100\n",
            "93/93 [==============================] - 1s 8ms/step - loss: 1.5216 - mae: 1.9626\n",
            "Epoch 33/100\n",
            "93/93 [==============================] - 1s 8ms/step - loss: 1.4933 - mae: 1.9335\n",
            "Epoch 34/100\n",
            "93/93 [==============================] - 1s 8ms/step - loss: 1.4889 - mae: 1.9293\n",
            "Epoch 35/100\n",
            "93/93 [==============================] - 1s 8ms/step - loss: 1.4831 - mae: 1.9208\n",
            "Epoch 36/100\n",
            "93/93 [==============================] - 1s 8ms/step - loss: 1.4778 - mae: 1.9159\n",
            "Epoch 37/100\n",
            "93/93 [==============================] - 1s 8ms/step - loss: 1.4928 - mae: 1.9344\n",
            "Epoch 38/100\n",
            "93/93 [==============================] - 1s 8ms/step - loss: 1.5378 - mae: 1.9804\n",
            "Epoch 39/100\n",
            "93/93 [==============================] - 1s 8ms/step - loss: 1.4912 - mae: 1.9297\n",
            "Epoch 40/100\n",
            "93/93 [==============================] - 1s 8ms/step - loss: 1.4908 - mae: 1.9324\n",
            "Epoch 41/100\n",
            "93/93 [==============================] - 1s 8ms/step - loss: 1.5065 - mae: 1.9472\n",
            "Epoch 42/100\n",
            "93/93 [==============================] - 1s 8ms/step - loss: 1.4959 - mae: 1.9368\n",
            "Epoch 43/100\n",
            "93/93 [==============================] - 1s 8ms/step - loss: 1.5285 - mae: 1.9682\n",
            "Epoch 44/100\n",
            "93/93 [==============================] - 1s 8ms/step - loss: 1.5288 - mae: 1.9724\n",
            "Epoch 45/100\n",
            "93/93 [==============================] - 1s 8ms/step - loss: 1.5048 - mae: 1.9446\n",
            "Epoch 46/100\n",
            "93/93 [==============================] - 1s 8ms/step - loss: 1.5078 - mae: 1.9506\n",
            "Epoch 47/100\n",
            "93/93 [==============================] - 1s 8ms/step - loss: 1.5310 - mae: 1.9725\n",
            "Epoch 48/100\n",
            "93/93 [==============================] - 1s 8ms/step - loss: 1.4810 - mae: 1.9248\n",
            "Epoch 49/100\n",
            "93/93 [==============================] - 1s 8ms/step - loss: 1.5141 - mae: 1.9557\n",
            "Epoch 50/100\n",
            "93/93 [==============================] - 1s 8ms/step - loss: 1.5090 - mae: 1.9497\n",
            "Epoch 51/100\n",
            "93/93 [==============================] - 1s 8ms/step - loss: 1.5100 - mae: 1.9503\n",
            "Epoch 52/100\n",
            "93/93 [==============================] - 1s 8ms/step - loss: 1.5205 - mae: 1.9620\n",
            "Epoch 53/100\n",
            "93/93 [==============================] - 1s 8ms/step - loss: 1.5230 - mae: 1.9638\n",
            "Epoch 54/100\n",
            "93/93 [==============================] - 1s 8ms/step - loss: 1.5127 - mae: 1.9528\n",
            "Epoch 55/100\n",
            "93/93 [==============================] - 1s 8ms/step - loss: 1.4618 - mae: 1.9001\n",
            "Epoch 56/100\n",
            "93/93 [==============================] - 1s 8ms/step - loss: 1.4941 - mae: 1.9342\n",
            "Epoch 57/100\n",
            "93/93 [==============================] - 1s 8ms/step - loss: 1.5098 - mae: 1.9497\n",
            "Epoch 58/100\n",
            "93/93 [==============================] - 1s 8ms/step - loss: 1.5463 - mae: 1.9874\n",
            "Epoch 59/100\n",
            "93/93 [==============================] - 1s 8ms/step - loss: 1.4714 - mae: 1.9087\n",
            "Epoch 60/100\n",
            "93/93 [==============================] - 1s 8ms/step - loss: 1.5138 - mae: 1.9552\n",
            "Epoch 61/100\n",
            "93/93 [==============================] - 1s 8ms/step - loss: 1.4800 - mae: 1.9216\n",
            "Epoch 62/100\n",
            "93/93 [==============================] - 1s 8ms/step - loss: 1.4850 - mae: 1.9257\n",
            "Epoch 63/100\n",
            "93/93 [==============================] - 1s 8ms/step - loss: 1.4852 - mae: 1.9257\n",
            "Epoch 64/100\n",
            "93/93 [==============================] - 1s 8ms/step - loss: 1.4830 - mae: 1.9222\n",
            "Epoch 65/100\n",
            "93/93 [==============================] - 1s 8ms/step - loss: 1.4937 - mae: 1.9362\n",
            "Epoch 66/100\n",
            "93/93 [==============================] - 1s 8ms/step - loss: 1.5344 - mae: 1.9759\n",
            "Epoch 67/100\n",
            "93/93 [==============================] - 1s 8ms/step - loss: 1.4712 - mae: 1.9121\n",
            "Epoch 68/100\n",
            "93/93 [==============================] - 1s 8ms/step - loss: 1.5163 - mae: 1.9592\n",
            "Epoch 69/100\n",
            "93/93 [==============================] - 1s 8ms/step - loss: 1.5093 - mae: 1.9507\n",
            "Epoch 70/100\n",
            "93/93 [==============================] - 1s 8ms/step - loss: 1.5277 - mae: 1.9691\n",
            "Epoch 71/100\n",
            "93/93 [==============================] - 1s 8ms/step - loss: 1.5368 - mae: 1.9789\n",
            "Epoch 72/100\n",
            "93/93 [==============================] - 1s 8ms/step - loss: 1.5133 - mae: 1.9553\n",
            "Epoch 73/100\n",
            "93/93 [==============================] - 1s 8ms/step - loss: 1.5373 - mae: 1.9805\n",
            "Epoch 74/100\n",
            "93/93 [==============================] - 1s 8ms/step - loss: 1.4788 - mae: 1.9169\n",
            "Epoch 75/100\n",
            "93/93 [==============================] - 1s 8ms/step - loss: 1.5209 - mae: 1.9622\n",
            "Epoch 76/100\n",
            "93/93 [==============================] - 1s 8ms/step - loss: 1.4947 - mae: 1.9350\n",
            "Epoch 77/100\n",
            "93/93 [==============================] - 1s 8ms/step - loss: 1.5259 - mae: 1.9676\n",
            "Epoch 78/100\n",
            "93/93 [==============================] - 1s 8ms/step - loss: 1.5012 - mae: 1.9390\n",
            "Epoch 79/100\n",
            "93/93 [==============================] - 1s 9ms/step - loss: 1.5034 - mae: 1.9417\n",
            "Epoch 80/100\n",
            "93/93 [==============================] - 1s 8ms/step - loss: 1.5125 - mae: 1.9517\n",
            "Epoch 81/100\n",
            "93/93 [==============================] - 1s 8ms/step - loss: 1.5060 - mae: 1.9442\n",
            "Epoch 82/100\n",
            "93/93 [==============================] - 1s 8ms/step - loss: 1.5068 - mae: 1.9462\n",
            "Epoch 83/100\n",
            "93/93 [==============================] - 1s 8ms/step - loss: 1.4739 - mae: 1.9148\n",
            "Epoch 84/100\n",
            "93/93 [==============================] - 1s 8ms/step - loss: 1.5060 - mae: 1.9454\n",
            "Epoch 85/100\n",
            "93/93 [==============================] - 1s 8ms/step - loss: 1.4847 - mae: 1.9225\n",
            "Epoch 86/100\n",
            "93/93 [==============================] - 1s 8ms/step - loss: 1.4648 - mae: 1.9034\n",
            "Epoch 87/100\n",
            "93/93 [==============================] - 1s 8ms/step - loss: 1.4886 - mae: 1.9273\n",
            "Epoch 88/100\n",
            "93/93 [==============================] - 1s 8ms/step - loss: 1.5029 - mae: 1.9436\n",
            "Epoch 89/100\n",
            "93/93 [==============================] - 1s 8ms/step - loss: 1.4806 - mae: 1.9179\n",
            "Epoch 90/100\n",
            "93/93 [==============================] - 1s 8ms/step - loss: 1.5199 - mae: 1.9604\n",
            "Epoch 91/100\n",
            "93/93 [==============================] - 1s 8ms/step - loss: 1.4759 - mae: 1.9168\n",
            "Epoch 92/100\n",
            "93/93 [==============================] - 1s 8ms/step - loss: 1.4723 - mae: 1.9128\n",
            "Epoch 93/100\n",
            "93/93 [==============================] - 1s 8ms/step - loss: 1.5115 - mae: 1.9530\n",
            "Epoch 94/100\n",
            "93/93 [==============================] - 1s 8ms/step - loss: 1.4853 - mae: 1.9238\n",
            "Epoch 95/100\n",
            "93/93 [==============================] - 1s 8ms/step - loss: 1.5016 - mae: 1.9404\n",
            "Epoch 96/100\n",
            "93/93 [==============================] - 1s 8ms/step - loss: 1.4785 - mae: 1.9171\n",
            "Epoch 97/100\n",
            "93/93 [==============================] - 1s 8ms/step - loss: 1.4951 - mae: 1.9356\n",
            "Epoch 98/100\n",
            "93/93 [==============================] - 1s 8ms/step - loss: 1.4958 - mae: 1.9393\n",
            "Epoch 99/100\n",
            "93/93 [==============================] - 1s 8ms/step - loss: 1.4889 - mae: 1.9299\n",
            "Epoch 100/100\n",
            "93/93 [==============================] - 1s 8ms/step - loss: 1.4774 - mae: 1.9187\n"
          ],
          "name": "stdout"
        }
      ]
    },
    {
      "cell_type": "code",
      "metadata": {
        "colab": {
          "base_uri": "https://localhost:8080/",
          "height": 282
        },
        "id": "ot9XwltbdBto",
        "outputId": "f0c0a388-bcfd-46ae-b2bd-6783cdc1ae51"
      },
      "source": [
        "loss = history.history[\"loss\"]\n",
        "plt.plot(loss)"
      ],
      "execution_count": null,
      "outputs": [
        {
          "output_type": "execute_result",
          "data": {
            "text/plain": [
              "[<matplotlib.lines.Line2D at 0x7fbdab6afa90>]"
            ]
          },
          "metadata": {
            "tags": []
          },
          "execution_count": 106
        },
        {
          "output_type": "display_data",
          "data": {
            "image/png": "[encoded data removed]",
            "text/plain": [
              "<Figure size 432x288 with 1 Axes>"
            ]
          },
          "metadata": {
            "tags": [],
            "needs_background": "light"
          }
        }
      ]
    },
    {
      "cell_type": "code",
      "metadata": {
        "id": "qYQomyuYdbu_"
      },
      "source": [
        "#predict the new series\n",
        "forecast = []\n",
        "results = []\n",
        "\n",
        "for time in range(len(series) - window_size):\n",
        "  forecast.append(model.predict(series[time:time + window_size][np.newaxis]))\n",
        "\n",
        "forecast = forecast[split_time - window_size:]\n",
        "results = np.array(forecast)[:, 0, 0]"
      ],
      "execution_count": null,
      "outputs": []
    },
    {
      "cell_type": "code",
      "metadata": {
        "colab": {
          "base_uri": "https://localhost:8080/",
          "height": 391
        },
        "id": "54K7gD7geNWU",
        "outputId": "ed518c87-e765-472c-fadb-13ed3db780e8"
      },
      "source": [
        "#plot the predicted vs actual data\n",
        "plt.figure(figsize=(10, 6))\n",
        "\n",
        "plt.plot(time_val, x_val)\n",
        "plt.plot(time_val, results)"
      ],
      "execution_count": null,
      "outputs": [
        {
          "output_type": "execute_result",
          "data": {
            "text/plain": [
              "[<matplotlib.lines.Line2D at 0x7fbd90634c18>]"
            ]
          },
          "metadata": {
            "tags": []
          },
          "execution_count": 108
        },
        {
          "output_type": "display_data",
          "data": {
            "image/png": "[encoded data removed]",
            "text/plain": [
              "<Figure size 720x432 with 1 Axes>"
            ]
          },
          "metadata": {
            "tags": [],
            "needs_background": "light"
          }
        }
      ]
    },
    {
      "cell_type": "code",
      "metadata": {
        "id": "erVcP2hGfrgi"
      },
      "source": [
        "train_data_conv = window_data_CONV(x_train, window_size, batch_size, shuffle_buffer_size)"
      ],
      "execution_count": null,
      "outputs": []
    },
    {
      "cell_type": "code",
      "metadata": {
        "id": "g0AKpGipg5wq"
      },
      "source": [
        "model_conv = keras.models.Sequential([\n",
        "                                      keras.layers.Conv1D(filters=64, kernel_size=5, strides=1, padding=\"causal\", activation=\"relu\", input_shape=[None, 1]),\n",
        "                                      keras.layers.LSTM(60, return_sequences=True),\n",
        "                                      keras.layers.LSTM(60),\n",
        "                                      keras.layers.Dense(30, activation=\"relu\"),\n",
        "                                      keras.layers.Dense(10, activation=\"relu\"),\n",
        "                                      keras.layers.Dense(1)\n",
        "])"
      ],
      "execution_count": null,
      "outputs": []
    },
    {
      "cell_type": "code",
      "metadata": {
        "colab": {
          "base_uri": "https://localhost:8080/"
        },
        "id": "O-eUcrMNia2x",
        "outputId": "bf9a0178-db1e-4102-c29d-6fa69b8ecccb"
      },
      "source": [
        "model_conv.summary()"
      ],
      "execution_count": null,
      "outputs": [
        {
          "output_type": "stream",
          "text": [
            "Model: \"sequential\"\n",
            "_________________________________________________________________\n",
            "Layer (type)                 Output Shape              Param #   \n",
            "=================================================================\n",
            "conv1d (Conv1D)              (None, None, 64)          384       \n",
            "_________________________________________________________________\n",
            "lstm (LSTM)                  (None, None, 60)          30000     \n",
            "_________________________________________________________________\n",
            "lstm_1 (LSTM)                (None, 60)                29040     \n",
            "_________________________________________________________________\n",
            "dense (Dense)                (None, 30)                1830      \n",
            "_________________________________________________________________\n",
            "dense_1 (Dense)              (None, 10)                310       \n",
            "_________________________________________________________________\n",
            "dense_2 (Dense)              (None, 1)                 11        \n",
            "=================================================================\n",
            "Total params: 61,575\n",
            "Trainable params: 61,575\n",
            "Non-trainable params: 0\n",
            "_________________________________________________________________\n"
          ],
          "name": "stdout"
        }
      ]
    },
    {
      "cell_type": "code",
      "metadata": {
        "id": "2YeyhH_fiGHC"
      },
      "source": [
        "model_conv.compile(loss=keras.losses.Huber(), metrics=[\"mae\"], optimizer=\"adam\")"
      ],
      "execution_count": null,
      "outputs": []
    },
    {
      "cell_type": "code",
      "metadata": {
        "colab": {
          "base_uri": "https://localhost:8080/"
        },
        "id": "euFYYdhRiMmt",
        "outputId": "3f3514cb-6f54-435a-d427-82470125a75e"
      },
      "source": [
        "tf.keras.backend.clear_session()\n",
        "tf.random.set_seed(51)\n",
        "np.random.seed(51)\n",
        "history_conv = model_conv.fit(train_data_conv, epochs=100, callbacks=[lr_sheduler])"
      ],
      "execution_count": null,
      "outputs": [
        {
          "output_type": "stream",
          "text": [
            "Epoch 1/100\n",
            "93/93 [==============================] - 3s 8ms/step - loss: 10.4536 - mae: 10.9520\n",
            "Epoch 2/100\n",
            "93/93 [==============================] - 1s 8ms/step - loss: 10.5399 - mae: 11.0392\n",
            "Epoch 3/100\n",
            "93/93 [==============================] - 1s 8ms/step - loss: 10.5471 - mae: 11.0465\n",
            "Epoch 4/100\n",
            "93/93 [==============================] - 1s 8ms/step - loss: 10.4167 - mae: 10.9158\n",
            "Epoch 5/100\n",
            "93/93 [==============================] - 1s 8ms/step - loss: 10.4558 - mae: 10.9545\n",
            "Epoch 6/100\n",
            "93/93 [==============================] - 1s 8ms/step - loss: 10.5375 - mae: 11.0364\n",
            "Epoch 7/100\n",
            "93/93 [==============================] - 1s 8ms/step - loss: 10.5442 - mae: 11.0431\n",
            "Epoch 8/100\n",
            "93/93 [==============================] - 1s 8ms/step - loss: 10.4899 - mae: 10.9889\n",
            "Epoch 9/100\n",
            "93/93 [==============================] - 1s 8ms/step - loss: 10.4982 - mae: 10.9977\n",
            "Epoch 10/100\n",
            "93/93 [==============================] - 1s 8ms/step - loss: 10.5730 - mae: 11.0719\n",
            "Epoch 11/100\n",
            "93/93 [==============================] - 1s 8ms/step - loss: 10.4583 - mae: 10.9570\n",
            "Epoch 12/100\n",
            "93/93 [==============================] - 1s 8ms/step - loss: 10.5961 - mae: 11.0953\n",
            "Epoch 13/100\n",
            "93/93 [==============================] - 1s 8ms/step - loss: 10.5452 - mae: 11.0442\n",
            "Epoch 14/100\n",
            "93/93 [==============================] - 1s 8ms/step - loss: 10.5023 - mae: 11.0014\n",
            "Epoch 15/100\n",
            "93/93 [==============================] - 1s 8ms/step - loss: 10.5048 - mae: 11.0034\n",
            "Epoch 16/100\n",
            "93/93 [==============================] - 1s 8ms/step - loss: 10.4966 - mae: 10.9954\n",
            "Epoch 17/100\n",
            "93/93 [==============================] - 1s 8ms/step - loss: 10.4764 - mae: 10.9749\n",
            "Epoch 18/100\n",
            "93/93 [==============================] - 1s 8ms/step - loss: 10.5119 - mae: 11.0109\n",
            "Epoch 19/100\n",
            "93/93 [==============================] - 1s 8ms/step - loss: 10.6030 - mae: 11.1021\n",
            "Epoch 20/100\n",
            "93/93 [==============================] - 1s 9ms/step - loss: 10.4893 - mae: 10.9884\n",
            "Epoch 21/100\n",
            "93/93 [==============================] - 1s 8ms/step - loss: 10.6109 - mae: 11.1105\n",
            "Epoch 22/100\n",
            "93/93 [==============================] - 1s 8ms/step - loss: 10.5797 - mae: 11.0785\n",
            "Epoch 23/100\n",
            "93/93 [==============================] - 1s 8ms/step - loss: 10.5665 - mae: 11.0655\n",
            "Epoch 24/100\n",
            "93/93 [==============================] - 1s 8ms/step - loss: 10.4577 - mae: 10.9569\n",
            "Epoch 25/100\n",
            "93/93 [==============================] - 1s 8ms/step - loss: 10.4066 - mae: 10.9055\n",
            "Epoch 26/100\n",
            "93/93 [==============================] - 1s 8ms/step - loss: 10.5417 - mae: 11.0403\n",
            "Epoch 27/100\n",
            "93/93 [==============================] - 1s 8ms/step - loss: 10.4640 - mae: 10.9629\n",
            "Epoch 28/100\n",
            "93/93 [==============================] - 1s 8ms/step - loss: 10.4631 - mae: 10.9620\n",
            "Epoch 29/100\n",
            "93/93 [==============================] - 1s 8ms/step - loss: 10.3681 - mae: 10.8665\n",
            "Epoch 30/100\n",
            "93/93 [==============================] - 1s 8ms/step - loss: 10.5435 - mae: 11.0426\n",
            "Epoch 31/100\n",
            "93/93 [==============================] - 1s 8ms/step - loss: 10.6333 - mae: 11.1325\n",
            "Epoch 32/100\n",
            "93/93 [==============================] - 1s 8ms/step - loss: 10.4937 - mae: 10.9931\n",
            "Epoch 33/100\n",
            "93/93 [==============================] - 1s 8ms/step - loss: 10.5139 - mae: 11.0131\n",
            "Epoch 34/100\n",
            "93/93 [==============================] - 1s 8ms/step - loss: 10.4638 - mae: 10.9627\n",
            "Epoch 35/100\n",
            "93/93 [==============================] - 1s 8ms/step - loss: 10.4579 - mae: 10.9570\n",
            "Epoch 36/100\n",
            "93/93 [==============================] - 1s 8ms/step - loss: 10.4303 - mae: 10.9293\n",
            "Epoch 37/100\n",
            "93/93 [==============================] - 1s 8ms/step - loss: 10.3389 - mae: 10.8383\n",
            "Epoch 38/100\n",
            "93/93 [==============================] - 1s 8ms/step - loss: 10.2991 - mae: 10.7973\n",
            "Epoch 39/100\n",
            "93/93 [==============================] - 1s 8ms/step - loss: 10.4111 - mae: 10.9098\n",
            "Epoch 40/100\n",
            "93/93 [==============================] - 1s 8ms/step - loss: 10.2528 - mae: 10.7512\n",
            "Epoch 41/100\n",
            "93/93 [==============================] - 1s 8ms/step - loss: 10.2821 - mae: 10.7812\n",
            "Epoch 42/100\n",
            "93/93 [==============================] - 1s 8ms/step - loss: 10.2796 - mae: 10.7784\n",
            "Epoch 43/100\n",
            "93/93 [==============================] - 1s 8ms/step - loss: 10.1474 - mae: 10.6463\n",
            "Epoch 44/100\n",
            "93/93 [==============================] - 1s 8ms/step - loss: 10.2558 - mae: 10.7546\n",
            "Epoch 45/100\n",
            "93/93 [==============================] - 1s 8ms/step - loss: 10.2166 - mae: 10.7151\n",
            "Epoch 46/100\n",
            "93/93 [==============================] - 1s 8ms/step - loss: 10.0867 - mae: 10.5858\n",
            "Epoch 47/100\n",
            "93/93 [==============================] - 1s 8ms/step - loss: 10.0464 - mae: 10.5448\n",
            "Epoch 48/100\n",
            "93/93 [==============================] - 1s 8ms/step - loss: 10.0103 - mae: 10.5092\n",
            "Epoch 49/100\n",
            "93/93 [==============================] - 1s 8ms/step - loss: 10.0005 - mae: 10.4987\n",
            "Epoch 50/100\n",
            "93/93 [==============================] - 1s 8ms/step - loss: 9.9157 - mae: 10.4145\n",
            "Epoch 51/100\n",
            "93/93 [==============================] - 1s 8ms/step - loss: 9.8730 - mae: 10.3718\n",
            "Epoch 52/100\n",
            "93/93 [==============================] - 1s 8ms/step - loss: 9.8873 - mae: 10.3856\n",
            "Epoch 53/100\n",
            "93/93 [==============================] - 1s 8ms/step - loss: 9.6631 - mae: 10.1607\n",
            "Epoch 54/100\n",
            "93/93 [==============================] - 1s 8ms/step - loss: 9.4842 - mae: 9.9824\n",
            "Epoch 55/100\n",
            "93/93 [==============================] - 1s 8ms/step - loss: 9.4772 - mae: 9.9757\n",
            "Epoch 56/100\n",
            "93/93 [==============================] - 1s 8ms/step - loss: 9.0730 - mae: 9.5707\n",
            "Epoch 57/100\n",
            "93/93 [==============================] - 1s 8ms/step - loss: 8.5347 - mae: 9.0330\n",
            "Epoch 58/100\n",
            "93/93 [==============================] - 1s 8ms/step - loss: 8.2466 - mae: 8.7442\n",
            "Epoch 59/100\n",
            "93/93 [==============================] - 1s 8ms/step - loss: 7.9918 - mae: 8.4881\n",
            "Epoch 60/100\n",
            "93/93 [==============================] - 1s 8ms/step - loss: 7.3038 - mae: 7.7990\n",
            "Epoch 61/100\n",
            "93/93 [==============================] - 1s 8ms/step - loss: 6.7986 - mae: 7.2918\n",
            "Epoch 62/100\n",
            "93/93 [==============================] - 1s 8ms/step - loss: 6.1854 - mae: 6.6748\n",
            "Epoch 63/100\n",
            "93/93 [==============================] - 1s 8ms/step - loss: 5.7457 - mae: 6.2334\n",
            "Epoch 64/100\n",
            "93/93 [==============================] - 1s 8ms/step - loss: 5.0703 - mae: 5.5564\n",
            "Epoch 65/100\n",
            "93/93 [==============================] - 1s 8ms/step - loss: 4.5527 - mae: 5.0337\n",
            "Epoch 66/100\n",
            "93/93 [==============================] - 1s 8ms/step - loss: 4.0407 - mae: 4.5186\n",
            "Epoch 67/100\n",
            "93/93 [==============================] - 1s 8ms/step - loss: 3.5796 - mae: 4.0525\n",
            "Epoch 68/100\n",
            "93/93 [==============================] - 1s 8ms/step - loss: 3.3099 - mae: 3.7827\n",
            "Epoch 69/100\n",
            "93/93 [==============================] - 1s 8ms/step - loss: 3.0669 - mae: 3.5375\n",
            "Epoch 70/100\n",
            "93/93 [==============================] - 1s 9ms/step - loss: 2.7886 - mae: 3.2526\n",
            "Epoch 71/100\n",
            "93/93 [==============================] - 1s 8ms/step - loss: 2.4212 - mae: 2.8797\n",
            "Epoch 72/100\n",
            "93/93 [==============================] - 1s 8ms/step - loss: 2.2034 - mae: 2.6640\n",
            "Epoch 73/100\n",
            "93/93 [==============================] - 1s 8ms/step - loss: 2.0693 - mae: 2.5252\n",
            "Epoch 74/100\n",
            "93/93 [==============================] - 1s 8ms/step - loss: 2.0269 - mae: 2.4809\n",
            "Epoch 75/100\n",
            "93/93 [==============================] - 1s 8ms/step - loss: 1.9298 - mae: 2.3780\n",
            "Epoch 76/100\n",
            "93/93 [==============================] - 1s 8ms/step - loss: 1.9224 - mae: 2.3768\n",
            "Epoch 77/100\n",
            "93/93 [==============================] - 1s 8ms/step - loss: 1.8969 - mae: 2.3486\n",
            "Epoch 78/100\n",
            "93/93 [==============================] - 1s 8ms/step - loss: 1.8524 - mae: 2.3039\n",
            "Epoch 79/100\n",
            "93/93 [==============================] - 1s 8ms/step - loss: 1.8822 - mae: 2.3342\n",
            "Epoch 80/100\n",
            "93/93 [==============================] - 1s 8ms/step - loss: 1.8429 - mae: 2.2937\n",
            "Epoch 81/100\n",
            "93/93 [==============================] - 1s 8ms/step - loss: 1.8339 - mae: 2.2872\n",
            "Epoch 82/100\n",
            "93/93 [==============================] - 1s 8ms/step - loss: 1.8106 - mae: 2.2618\n",
            "Epoch 83/100\n",
            "93/93 [==============================] - 1s 8ms/step - loss: 1.7793 - mae: 2.2283\n",
            "Epoch 84/100\n",
            "93/93 [==============================] - 1s 8ms/step - loss: 1.7956 - mae: 2.2480\n",
            "Epoch 85/100\n",
            "93/93 [==============================] - 1s 8ms/step - loss: 1.7320 - mae: 2.1827\n",
            "Epoch 86/100\n",
            "93/93 [==============================] - 1s 8ms/step - loss: 1.7353 - mae: 2.1876\n",
            "Epoch 87/100\n",
            "93/93 [==============================] - 1s 8ms/step - loss: 1.6915 - mae: 2.1423\n",
            "Epoch 88/100\n",
            "93/93 [==============================] - 1s 9ms/step - loss: 1.7248 - mae: 2.1763\n",
            "Epoch 89/100\n",
            "93/93 [==============================] - 1s 9ms/step - loss: 1.6659 - mae: 2.1131\n",
            "Epoch 90/100\n",
            "93/93 [==============================] - 1s 8ms/step - loss: 1.6272 - mae: 2.0698\n",
            "Epoch 91/100\n",
            "93/93 [==============================] - 1s 8ms/step - loss: 1.6455 - mae: 2.0913\n",
            "Epoch 92/100\n",
            "93/93 [==============================] - 1s 8ms/step - loss: 1.6275 - mae: 2.0678\n",
            "Epoch 93/100\n",
            "93/93 [==============================] - 1s 8ms/step - loss: 1.5946 - mae: 2.0406\n",
            "Epoch 94/100\n",
            "93/93 [==============================] - 1s 8ms/step - loss: 1.5085 - mae: 1.9449\n",
            "Epoch 95/100\n",
            "93/93 [==============================] - 1s 8ms/step - loss: 1.5710 - mae: 2.0159\n",
            "Epoch 96/100\n",
            "93/93 [==============================] - 1s 8ms/step - loss: 1.5557 - mae: 2.0007\n",
            "Epoch 97/100\n",
            "93/93 [==============================] - 1s 8ms/step - loss: 1.5303 - mae: 1.9753\n",
            "Epoch 98/100\n",
            "93/93 [==============================] - 1s 8ms/step - loss: 1.6281 - mae: 2.0731\n",
            "Epoch 99/100\n",
            "93/93 [==============================] - 1s 8ms/step - loss: 1.5514 - mae: 1.9945\n",
            "Epoch 100/100\n",
            "93/93 [==============================] - 1s 8ms/step - loss: 1.5630 - mae: 2.0078\n"
          ],
          "name": "stdout"
        }
      ]
    },
    {
      "cell_type": "code",
      "metadata": {
        "colab": {
          "base_uri": "https://localhost:8080/",
          "height": 290
        },
        "id": "Dmva45dHiug1",
        "outputId": "2c546367-0fbd-4101-8d61-3ec3f0c4bcda"
      },
      "source": [
        "learning_rate = history_conv.history[\"lr\"]\n",
        "loss = history_conv.history[\"loss\"]\n",
        "plt.semilogx(learning_rate, loss)\n",
        "plt.axis([1e-8, 1e-4, 0, 60])"
      ],
      "execution_count": null,
      "outputs": [
        {
          "output_type": "execute_result",
          "data": {
            "text/plain": [
              "(1e-08, 0.0001, 0.0, 60.0)"
            ]
          },
          "metadata": {
            "tags": []
          },
          "execution_count": 114
        },
        {
          "output_type": "display_data",
          "data": {
            "image/png": "[encoded data removed]",
            "text/plain": [
              "<Figure size 432x288 with 1 Axes>"
            ]
          },
          "metadata": {
            "tags": [],
            "needs_background": "light"
          }
        }
      ]
    },
    {
      "cell_type": "code",
      "metadata": {
        "id": "62rnQDAijMed"
      },
      "source": [
        "optimizer = keras.optimizers.Adam(lr=1e-4)\n",
        "model_conv.compile(loss=keras.losses.Huber(), metrics=[\"mae\"], optimizer=optimizer)"
      ],
      "execution_count": null,
      "outputs": []
    },
    {
      "cell_type": "code",
      "metadata": {
        "colab": {
          "base_uri": "https://localhost:8080/"
        },
        "id": "Ol5PNMqtjYwt",
        "outputId": "9c8f8398-b999-4a7c-e293-9430d07c9145"
      },
      "source": [
        "tf.keras.backend.clear_session()\n",
        "tf.random.set_seed(51)\n",
        "np.random.seed(51)\n",
        "history_conv = model_conv.fit(train_data_conv, epochs=100)"
      ],
      "execution_count": null,
      "outputs": [
        {
          "output_type": "stream",
          "text": [
            "Epoch 1/100\n",
            "93/93 [==============================] - 4s 8ms/step - loss: 1.5068 - mae: 1.9436\n",
            "Epoch 2/100\n",
            "93/93 [==============================] - 1s 8ms/step - loss: 1.4973 - mae: 1.9376\n",
            "Epoch 3/100\n",
            "93/93 [==============================] - 1s 9ms/step - loss: 1.4644 - mae: 1.9019\n",
            "Epoch 4/100\n",
            "93/93 [==============================] - 1s 8ms/step - loss: 1.4362 - mae: 1.8720\n",
            "Epoch 5/100\n",
            "93/93 [==============================] - 1s 8ms/step - loss: 1.4771 - mae: 1.9168\n",
            "Epoch 6/100\n",
            "93/93 [==============================] - 1s 8ms/step - loss: 1.4694 - mae: 1.9069\n",
            "Epoch 7/100\n",
            "93/93 [==============================] - 1s 8ms/step - loss: 1.4795 - mae: 1.9172\n",
            "Epoch 8/100\n",
            "93/93 [==============================] - 1s 8ms/step - loss: 1.4481 - mae: 1.8872\n",
            "Epoch 9/100\n",
            "93/93 [==============================] - 1s 9ms/step - loss: 1.4907 - mae: 1.9295\n",
            "Epoch 10/100\n",
            "93/93 [==============================] - 1s 8ms/step - loss: 1.4783 - mae: 1.9179\n",
            "Epoch 11/100\n",
            "93/93 [==============================] - 1s 8ms/step - loss: 1.4390 - mae: 1.8723\n",
            "Epoch 12/100\n",
            "93/93 [==============================] - 1s 8ms/step - loss: 1.4661 - mae: 1.9076\n",
            "Epoch 13/100\n",
            "93/93 [==============================] - 1s 8ms/step - loss: 1.4520 - mae: 1.8884\n",
            "Epoch 14/100\n",
            "93/93 [==============================] - 1s 8ms/step - loss: 1.4265 - mae: 1.8622\n",
            "Epoch 15/100\n",
            "93/93 [==============================] - 1s 8ms/step - loss: 1.4551 - mae: 1.8964\n",
            "Epoch 16/100\n",
            "93/93 [==============================] - 1s 8ms/step - loss: 1.4704 - mae: 1.9104\n",
            "Epoch 17/100\n",
            "93/93 [==============================] - 1s 8ms/step - loss: 1.4749 - mae: 1.9137\n",
            "Epoch 18/100\n",
            "93/93 [==============================] - 1s 8ms/step - loss: 1.4750 - mae: 1.9141\n",
            "Epoch 19/100\n",
            "93/93 [==============================] - 1s 8ms/step - loss: 1.4423 - mae: 1.8801\n",
            "Epoch 20/100\n",
            "93/93 [==============================] - 1s 8ms/step - loss: 1.4094 - mae: 1.8464\n",
            "Epoch 21/100\n",
            "93/93 [==============================] - 1s 8ms/step - loss: 1.4893 - mae: 1.9275\n",
            "Epoch 22/100\n",
            "93/93 [==============================] - 1s 8ms/step - loss: 1.4881 - mae: 1.9287\n",
            "Epoch 23/100\n",
            "93/93 [==============================] - 1s 8ms/step - loss: 1.4895 - mae: 1.9293\n",
            "Epoch 24/100\n",
            "93/93 [==============================] - 1s 8ms/step - loss: 1.4016 - mae: 1.8370\n",
            "Epoch 25/100\n",
            "93/93 [==============================] - 1s 8ms/step - loss: 1.4699 - mae: 1.9104\n",
            "Epoch 26/100\n",
            "93/93 [==============================] - 1s 8ms/step - loss: 1.4557 - mae: 1.8931\n",
            "Epoch 27/100\n",
            "93/93 [==============================] - 1s 8ms/step - loss: 1.4654 - mae: 1.9053\n",
            "Epoch 28/100\n",
            "93/93 [==============================] - 1s 8ms/step - loss: 1.4077 - mae: 1.8412\n",
            "Epoch 29/100\n",
            "93/93 [==============================] - 1s 8ms/step - loss: 1.4555 - mae: 1.8956\n",
            "Epoch 30/100\n",
            "93/93 [==============================] - 1s 8ms/step - loss: 1.4209 - mae: 1.8576\n",
            "Epoch 31/100\n",
            "93/93 [==============================] - 1s 8ms/step - loss: 1.4562 - mae: 1.8950\n",
            "Epoch 32/100\n",
            "93/93 [==============================] - 1s 8ms/step - loss: 1.4201 - mae: 1.8595\n",
            "Epoch 33/100\n",
            "93/93 [==============================] - 1s 8ms/step - loss: 1.4567 - mae: 1.8958\n",
            "Epoch 34/100\n",
            "93/93 [==============================] - 1s 8ms/step - loss: 1.4322 - mae: 1.8679\n",
            "Epoch 35/100\n",
            "93/93 [==============================] - 1s 8ms/step - loss: 1.4724 - mae: 1.9152\n",
            "Epoch 36/100\n",
            "93/93 [==============================] - 1s 8ms/step - loss: 1.4576 - mae: 1.8988\n",
            "Epoch 37/100\n",
            "93/93 [==============================] - 1s 8ms/step - loss: 1.4354 - mae: 1.8738\n",
            "Epoch 38/100\n",
            "93/93 [==============================] - 1s 8ms/step - loss: 1.4670 - mae: 1.9022\n",
            "Epoch 39/100\n",
            "93/93 [==============================] - 1s 8ms/step - loss: 1.4179 - mae: 1.8555\n",
            "Epoch 40/100\n",
            "93/93 [==============================] - 1s 8ms/step - loss: 1.4400 - mae: 1.8785\n",
            "Epoch 41/100\n",
            "93/93 [==============================] - 1s 8ms/step - loss: 1.4614 - mae: 1.9003\n",
            "Epoch 42/100\n",
            "93/93 [==============================] - 1s 8ms/step - loss: 1.4461 - mae: 1.8872\n",
            "Epoch 43/100\n",
            "93/93 [==============================] - 1s 8ms/step - loss: 1.4338 - mae: 1.8668\n",
            "Epoch 44/100\n",
            "93/93 [==============================] - 1s 8ms/step - loss: 1.4055 - mae: 1.8430\n",
            "Epoch 45/100\n",
            "93/93 [==============================] - 1s 8ms/step - loss: 1.4338 - mae: 1.8697\n",
            "Epoch 46/100\n",
            "93/93 [==============================] - 1s 8ms/step - loss: 1.4126 - mae: 1.8455\n",
            "Epoch 47/100\n",
            "93/93 [==============================] - 1s 8ms/step - loss: 1.4688 - mae: 1.9046\n",
            "Epoch 48/100\n",
            "93/93 [==============================] - 1s 8ms/step - loss: 1.4409 - mae: 1.8762\n",
            "Epoch 49/100\n",
            "93/93 [==============================] - 1s 8ms/step - loss: 1.4204 - mae: 1.8561\n",
            "Epoch 50/100\n",
            "93/93 [==============================] - 1s 8ms/step - loss: 1.4525 - mae: 1.8890\n",
            "Epoch 51/100\n",
            "93/93 [==============================] - 1s 8ms/step - loss: 1.4395 - mae: 1.8779\n",
            "Epoch 52/100\n",
            "93/93 [==============================] - 1s 8ms/step - loss: 1.4358 - mae: 1.8747\n",
            "Epoch 53/100\n",
            "93/93 [==============================] - 1s 8ms/step - loss: 1.4132 - mae: 1.8499\n",
            "Epoch 54/100\n",
            "93/93 [==============================] - 1s 8ms/step - loss: 1.4179 - mae: 1.8531\n",
            "Epoch 55/100\n",
            "93/93 [==============================] - 1s 8ms/step - loss: 1.4733 - mae: 1.9106\n",
            "Epoch 56/100\n",
            "93/93 [==============================] - 1s 8ms/step - loss: 1.4284 - mae: 1.8662\n",
            "Epoch 57/100\n",
            "93/93 [==============================] - 1s 8ms/step - loss: 1.4236 - mae: 1.8618\n",
            "Epoch 58/100\n",
            "93/93 [==============================] - 1s 8ms/step - loss: 1.4694 - mae: 1.9043\n",
            "Epoch 59/100\n",
            "93/93 [==============================] - 1s 8ms/step - loss: 1.4136 - mae: 1.8503\n",
            "Epoch 60/100\n",
            "93/93 [==============================] - 1s 8ms/step - loss: 1.4184 - mae: 1.8540\n",
            "Epoch 61/100\n",
            "93/93 [==============================] - 1s 8ms/step - loss: 1.4785 - mae: 1.9130\n",
            "Epoch 62/100\n",
            "93/93 [==============================] - 1s 8ms/step - loss: 1.4383 - mae: 1.8746\n",
            "Epoch 63/100\n",
            "93/93 [==============================] - 1s 8ms/step - loss: 1.4708 - mae: 1.9084\n",
            "Epoch 64/100\n",
            "93/93 [==============================] - 1s 8ms/step - loss: 1.4358 - mae: 1.8666\n",
            "Epoch 65/100\n",
            "93/93 [==============================] - 1s 8ms/step - loss: 1.4224 - mae: 1.8588\n",
            "Epoch 66/100\n",
            "93/93 [==============================] - 1s 9ms/step - loss: 1.4325 - mae: 1.8648\n",
            "Epoch 67/100\n",
            "93/93 [==============================] - 1s 8ms/step - loss: 1.4391 - mae: 1.8781\n",
            "Epoch 68/100\n",
            "93/93 [==============================] - 1s 8ms/step - loss: 1.4224 - mae: 1.8612\n",
            "Epoch 69/100\n",
            "93/93 [==============================] - 1s 8ms/step - loss: 1.4704 - mae: 1.9123\n",
            "Epoch 70/100\n",
            "93/93 [==============================] - 1s 8ms/step - loss: 1.4505 - mae: 1.8884\n",
            "Epoch 71/100\n",
            "93/93 [==============================] - 1s 8ms/step - loss: 1.4795 - mae: 1.9209\n",
            "Epoch 72/100\n",
            "93/93 [==============================] - 1s 8ms/step - loss: 1.4398 - mae: 1.8714\n",
            "Epoch 73/100\n",
            "93/93 [==============================] - 1s 8ms/step - loss: 1.4506 - mae: 1.8864\n",
            "Epoch 74/100\n",
            "93/93 [==============================] - 1s 8ms/step - loss: 1.4337 - mae: 1.8696\n",
            "Epoch 75/100\n",
            "93/93 [==============================] - 1s 8ms/step - loss: 1.4286 - mae: 1.8675\n",
            "Epoch 76/100\n",
            "93/93 [==============================] - 1s 8ms/step - loss: 1.4319 - mae: 1.8672\n",
            "Epoch 77/100\n",
            "93/93 [==============================] - 1s 8ms/step - loss: 1.4309 - mae: 1.8666\n",
            "Epoch 78/100\n",
            "93/93 [==============================] - 1s 8ms/step - loss: 1.4789 - mae: 1.9182\n",
            "Epoch 79/100\n",
            "93/93 [==============================] - 1s 8ms/step - loss: 1.3838 - mae: 1.8166\n",
            "Epoch 80/100\n",
            "93/93 [==============================] - 1s 8ms/step - loss: 1.4061 - mae: 1.8390\n",
            "Epoch 81/100\n",
            "93/93 [==============================] - 1s 8ms/step - loss: 1.4338 - mae: 1.8731\n",
            "Epoch 82/100\n",
            "93/93 [==============================] - 1s 8ms/step - loss: 1.4140 - mae: 1.8489\n",
            "Epoch 83/100\n",
            "93/93 [==============================] - 1s 8ms/step - loss: 1.4095 - mae: 1.8490\n",
            "Epoch 84/100\n",
            "93/93 [==============================] - 1s 8ms/step - loss: 1.4220 - mae: 1.8553\n",
            "Epoch 85/100\n",
            "93/93 [==============================] - 1s 8ms/step - loss: 1.4422 - mae: 1.8773\n",
            "Epoch 86/100\n",
            "93/93 [==============================] - 1s 8ms/step - loss: 1.4143 - mae: 1.8541\n",
            "Epoch 87/100\n",
            "93/93 [==============================] - 1s 8ms/step - loss: 1.4275 - mae: 1.8624\n",
            "Epoch 88/100\n",
            "93/93 [==============================] - 1s 8ms/step - loss: 1.4116 - mae: 1.8472\n",
            "Epoch 89/100\n",
            "93/93 [==============================] - 1s 8ms/step - loss: 1.3792 - mae: 1.8112\n",
            "Epoch 90/100\n",
            "93/93 [==============================] - 1s 8ms/step - loss: 1.4175 - mae: 1.8551\n",
            "Epoch 91/100\n",
            "93/93 [==============================] - 1s 8ms/step - loss: 1.4345 - mae: 1.8711\n",
            "Epoch 92/100\n",
            "93/93 [==============================] - 1s 8ms/step - loss: 1.4382 - mae: 1.8724\n",
            "Epoch 93/100\n",
            "93/93 [==============================] - 1s 8ms/step - loss: 1.4086 - mae: 1.8379\n",
            "Epoch 94/100\n",
            "93/93 [==============================] - 1s 8ms/step - loss: 1.4508 - mae: 1.8881\n",
            "Epoch 95/100\n",
            "93/93 [==============================] - 1s 8ms/step - loss: 1.4298 - mae: 1.8642\n",
            "Epoch 96/100\n",
            "93/93 [==============================] - 1s 8ms/step - loss: 1.4385 - mae: 1.8739\n",
            "Epoch 97/100\n",
            "93/93 [==============================] - 1s 8ms/step - loss: 1.3738 - mae: 1.8093\n",
            "Epoch 98/100\n",
            "93/93 [==============================] - 1s 8ms/step - loss: 1.3649 - mae: 1.7981\n",
            "Epoch 99/100\n",
            "93/93 [==============================] - 1s 8ms/step - loss: 1.4143 - mae: 1.8473\n",
            "Epoch 100/100\n",
            "93/93 [==============================] - 1s 8ms/step - loss: 1.4360 - mae: 1.8711\n"
          ],
          "name": "stdout"
        }
      ]
    },
    {
      "cell_type": "code",
      "metadata": {
        "id": "951z99IIk5Td"
      },
      "source": [
        "def cnn_forecast(model, series, window_size):\n",
        "  ds = tf.data.Dataset.from_tensor_slices(series)\n",
        "  ds = ds.window(window_size, shift=1, drop_remainder=True)\n",
        "  ds = ds.flat_map(lambda w: w.batch(window_size))\n",
        "  ds = ds.batch(32).prefetch(1)\n",
        "  forecast = model_conv.predict(ds)\n",
        "  return forecast"
      ],
      "execution_count": null,
      "outputs": []
    },
    {
      "cell_type": "code",
      "metadata": {
        "id": "5MJSe4l1nZBz"
      },
      "source": [
        "rnn_forecast = cnn_forecast(model_conv, series[..., np.newaxis], window_size)\n",
        "rnn_forecast = rnn_forecast[split_time - window_size:-1, -1]"
      ],
      "execution_count": null,
      "outputs": []
    },
    {
      "cell_type": "code",
      "metadata": {
        "colab": {
          "base_uri": "https://localhost:8080/",
          "height": 391
        },
        "id": "_ZaMzRRDk7Fo",
        "outputId": "781b389c-0a2b-447e-d149-2da8347983ca"
      },
      "source": [
        "plt.figure(figsize=(10, 6))\n",
        "plt.plot(time_val, x_val)\n",
        "plt.plot(time_val, rnn_forecast)"
      ],
      "execution_count": null,
      "outputs": [
        {
          "output_type": "execute_result",
          "data": {
            "text/plain": [
              "[<matplotlib.lines.Line2D at 0x7fbd451714e0>]"
            ]
          },
          "metadata": {
            "tags": []
          },
          "execution_count": 128
        },
        {
          "output_type": "display_data",
          "data": {
            "image/png": "[encoded data removed]",
            "text/plain": [
              "<Figure size 720x432 with 1 Axes>"
            ]
          },
          "metadata": {
            "tags": [],
            "needs_background": "light"
          }
        }
      ]
    }
  ]
}