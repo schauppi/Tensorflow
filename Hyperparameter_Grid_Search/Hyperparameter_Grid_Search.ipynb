{
  "nbformat": 4,
  "nbformat_minor": 0,
  "metadata": {
    "colab": {
      "name": "Hyperparameter_Grid_Search.ipynb",
      "provenance": []
    },
    "kernelspec": {
      "name": "python3",
      "display_name": "Python 3"
    },
    "accelerator": "GPU"
  },
  "cells": [
    {
      "cell_type": "code",
      "metadata": {
        "id": "MHokXEyRvAPP"
      },
      "source": [
        "import tensorflow as tf\n",
        "from tensorflow import keras\n",
        "from sklearn.model_selection import GridSearchCV\n",
        "from tensorflow.keras.wrappers.scikit_learn import KerasClassifier\n",
        "import matplotlib.pyplot as plt"
      ],
      "execution_count": 39,
      "outputs": []
    },
    {
      "cell_type": "code",
      "metadata": {
        "id": "s2lbNVRK-bPk",
        "colab": {
          "base_uri": "https://localhost:8080/"
        },
        "outputId": "503bcd90-e95c-4bf6-b6c5-7963fc23dad6"
      },
      "source": [
        "#load mnist data\n",
        "(x_train, y_train), (x_test, y_test) = tf.keras.datasets.mnist.load_data()"
      ],
      "execution_count": 3,
      "outputs": [
        {
          "output_type": "stream",
          "text": [
            "Downloading data from https://storage.googleapis.com/tensorflow/tf-keras-datasets/mnist.npz\n",
            "11493376/11490434 [==============================] - 0s 0us/step\n"
          ],
          "name": "stdout"
        }
      ]
    },
    {
      "cell_type": "code",
      "metadata": {
        "id": "gQ4K1d1c-dXk"
      },
      "source": [
        "#normalize the data\n",
        "x_train = (x_train.astype(\"float32\")) / 255.0\n",
        "x_test = (x_test.astype(\"float32\")) / 255.0\n",
        "\n",
        "#reshape the data to have a single channel\n",
        "x_train = x_train.reshape((x_train.shape[0], 28,28,1))\n",
        "x_test = x_test.reshape((x_test.shape[0], 28,28,1))"
      ],
      "execution_count": 4,
      "outputs": []
    },
    {
      "cell_type": "code",
      "metadata": {
        "id": "X0yflkoK-fCI"
      },
      "source": [
        "#build the model\n",
        "def create_model():\n",
        "    model = keras.models.Sequential()\n",
        "    model.add(keras.layers.Conv2D(16, (3,3), activation=\"relu\", input_shape=(28,28,1)))\n",
        "    model.add(keras.layers.MaxPool2D(2,2))\n",
        "    model.add(keras.layers.Conv2D(32, (3,3), activation=\"relu\"))\n",
        "    model.add(keras.layers.MaxPool2D(2,2))\n",
        "    model.add(keras.layers.Flatten())\n",
        "    model.add(keras.layers.Dense(128, activation=\"relu\"))\n",
        "    model.add(keras.layers.Dense(10, activation=\"softmax\"))\n",
        "    model.compile(loss=\"sparse_categorical_crossentropy\", optimizer=\"adam\", metrics=[\"accuracy\"])\n",
        "    return model"
      ],
      "execution_count": 5,
      "outputs": []
    },
    {
      "cell_type": "code",
      "metadata": {
        "id": "o5d68mVa-gKu"
      },
      "source": [
        "#create the model\n",
        "model = KerasClassifier(build_fn=create_model)"
      ],
      "execution_count": 6,
      "outputs": []
    },
    {
      "cell_type": "code",
      "metadata": {
        "id": "Hio11XQf-iS9"
      },
      "source": [
        "#grid search parameters\n",
        "batch_size = [10, 20, 40]\n",
        "epochs = [10, 20, 30]\n",
        "\n",
        "param_grid = dict(batch_size=batch_size, epochs=epochs)"
      ],
      "execution_count": 7,
      "outputs": []
    },
    {
      "cell_type": "code",
      "metadata": {
        "id": "YqEvmPmf-j28"
      },
      "source": [
        "#n_jobs = process will use all cores on the machine\n",
        "#cv = use 3 fold grid search\n",
        "grid = GridSearchCV(estimator=model, param_grid=param_grid, n_jobs=-1, cv=3, verbose=2)"
      ],
      "execution_count": 8,
      "outputs": []
    },
    {
      "cell_type": "code",
      "metadata": {
        "id": "1vuivaKF-lPl",
        "outputId": "6119312a-d5d0-4d31-f39b-9952b3c93343",
        "colab": {
          "base_uri": "https://localhost:8080/"
        }
      },
      "source": [
        "grid_result = grid.fit(x_train, y_train)"
      ],
      "execution_count": 9,
      "outputs": [
        {
          "output_type": "stream",
          "text": [
            "Fitting 3 folds for each of 9 candidates, totalling 27 fits\n"
          ],
          "name": "stdout"
        },
        {
          "output_type": "stream",
          "text": [
            "[Parallel(n_jobs=-1)]: Using backend LokyBackend with 2 concurrent workers.\n",
            "/usr/local/lib/python3.6/dist-packages/joblib/externals/loky/process_executor.py:691: UserWarning: A worker stopped while some jobs were given to the executor. This can be caused by a too short worker timeout or by a memory leak.\n",
            "  \"timeout or by a memory leak.\", UserWarning\n",
            "[Parallel(n_jobs=-1)]: Done  27 out of  27 | elapsed: 31.3min finished\n"
          ],
          "name": "stderr"
        },
        {
          "output_type": "stream",
          "text": [
            "Epoch 1/30\n",
            "3000/3000 [==============================] - 9s 2ms/step - loss: 0.2933 - accuracy: 0.9091\n",
            "Epoch 2/30\n",
            "3000/3000 [==============================] - 6s 2ms/step - loss: 0.0495 - accuracy: 0.9853\n",
            "Epoch 3/30\n",
            "3000/3000 [==============================] - 6s 2ms/step - loss: 0.0331 - accuracy: 0.9898\n",
            "Epoch 4/30\n",
            "3000/3000 [==============================] - 6s 2ms/step - loss: 0.0223 - accuracy: 0.9926\n",
            "Epoch 5/30\n",
            "3000/3000 [==============================] - 6s 2ms/step - loss: 0.0157 - accuracy: 0.9952\n",
            "Epoch 6/30\n",
            "3000/3000 [==============================] - 6s 2ms/step - loss: 0.0133 - accuracy: 0.9953\n",
            "Epoch 7/30\n",
            "3000/3000 [==============================] - 6s 2ms/step - loss: 0.0092 - accuracy: 0.9971\n",
            "Epoch 8/30\n",
            "3000/3000 [==============================] - 6s 2ms/step - loss: 0.0076 - accuracy: 0.9975\n",
            "Epoch 9/30\n",
            "3000/3000 [==============================] - 6s 2ms/step - loss: 0.0075 - accuracy: 0.9974\n",
            "Epoch 10/30\n",
            "3000/3000 [==============================] - 6s 2ms/step - loss: 0.0061 - accuracy: 0.9979\n",
            "Epoch 11/30\n",
            "3000/3000 [==============================] - 6s 2ms/step - loss: 0.0048 - accuracy: 0.9984\n",
            "Epoch 12/30\n",
            "3000/3000 [==============================] - 6s 2ms/step - loss: 0.0048 - accuracy: 0.9984\n",
            "Epoch 13/30\n",
            "3000/3000 [==============================] - 6s 2ms/step - loss: 0.0036 - accuracy: 0.9991\n",
            "Epoch 14/30\n",
            "3000/3000 [==============================] - 6s 2ms/step - loss: 0.0051 - accuracy: 0.9988\n",
            "Epoch 15/30\n",
            "3000/3000 [==============================] - 6s 2ms/step - loss: 0.0043 - accuracy: 0.9988\n",
            "Epoch 16/30\n",
            "3000/3000 [==============================] - 6s 2ms/step - loss: 0.0051 - accuracy: 0.9987\n",
            "Epoch 17/30\n",
            "3000/3000 [==============================] - 6s 2ms/step - loss: 0.0032 - accuracy: 0.9991\n",
            "Epoch 18/30\n",
            "3000/3000 [==============================] - 6s 2ms/step - loss: 0.0031 - accuracy: 0.9989\n",
            "Epoch 19/30\n",
            "3000/3000 [==============================] - 6s 2ms/step - loss: 0.0030 - accuracy: 0.9989\n",
            "Epoch 20/30\n",
            "3000/3000 [==============================] - 6s 2ms/step - loss: 0.0027 - accuracy: 0.9990\n",
            "Epoch 21/30\n",
            "3000/3000 [==============================] - 6s 2ms/step - loss: 0.0038 - accuracy: 0.9988\n",
            "Epoch 22/30\n",
            "3000/3000 [==============================] - 6s 2ms/step - loss: 0.0036 - accuracy: 0.9988\n",
            "Epoch 23/30\n",
            "3000/3000 [==============================] - 6s 2ms/step - loss: 0.0017 - accuracy: 0.9994\n",
            "Epoch 24/30\n",
            "3000/3000 [==============================] - 6s 2ms/step - loss: 0.0027 - accuracy: 0.9992\n",
            "Epoch 25/30\n",
            "3000/3000 [==============================] - 6s 2ms/step - loss: 0.0030 - accuracy: 0.9992\n",
            "Epoch 26/30\n",
            "3000/3000 [==============================] - 6s 2ms/step - loss: 0.0029 - accuracy: 0.9990\n",
            "Epoch 27/30\n",
            "3000/3000 [==============================] - 6s 2ms/step - loss: 0.0025 - accuracy: 0.9992\n",
            "Epoch 28/30\n",
            "3000/3000 [==============================] - 6s 2ms/step - loss: 0.0022 - accuracy: 0.9991\n",
            "Epoch 29/30\n",
            "3000/3000 [==============================] - 6s 2ms/step - loss: 0.0034 - accuracy: 0.9991\n",
            "Epoch 30/30\n",
            "3000/3000 [==============================] - 6s 2ms/step - loss: 0.0020 - accuracy: 0.9994\n"
          ],
          "name": "stdout"
        }
      ]
    },
    {
      "cell_type": "code",
      "metadata": {
        "id": "72NXXW_t-mwm",
        "outputId": "4fa4b6a2-7466-4c66-ae62-e74867a667e6",
        "colab": {
          "base_uri": "https://localhost:8080/"
        }
      },
      "source": [
        "print(grid_result.best_score_, grid_result.best_params_)"
      ],
      "execution_count": 10,
      "outputs": [
        {
          "output_type": "stream",
          "text": [
            "0.9887333313624064 {'batch_size': 20, 'epochs': 30}\n"
          ],
          "name": "stdout"
        }
      ]
    },
    {
      "cell_type": "code",
      "metadata": {
        "id": "nJR_7EJhk9r0"
      },
      "source": [
        "#build the model\n",
        "def create_model_optimizer(optimizer=\"Adam\"):\n",
        "    model = keras.models.Sequential()\n",
        "    model.add(keras.layers.Conv2D(16, (3,3), activation=\"relu\", input_shape=(28,28,1)))\n",
        "    model.add(keras.layers.MaxPool2D(2,2))\n",
        "    model.add(keras.layers.Conv2D(32, (3,3), activation=\"relu\"))\n",
        "    model.add(keras.layers.MaxPool2D(2,2))\n",
        "    model.add(keras.layers.Flatten())\n",
        "    model.add(keras.layers.Dense(128, activation=\"relu\"))\n",
        "    model.add(keras.layers.Dense(10, activation=\"softmax\"))\n",
        "    model.compile(loss=\"sparse_categorical_crossentropy\", optimizer=optimizer, metrics=[\"accuracy\"])\n",
        "    return model"
      ],
      "execution_count": 20,
      "outputs": []
    },
    {
      "cell_type": "code",
      "metadata": {
        "id": "K-Gt3FslkGjT",
        "outputId": "65c99483-1d55-4aec-c599-3d377fc06cbd",
        "colab": {
          "base_uri": "https://localhost:8080/"
        }
      },
      "source": [
        "#Model for optimizer optimization\n",
        "model_optimizer = KerasClassifier(build_fn=create_model_optimizer, epochs=30, batch_size=20)\n",
        "optimizer = [\"SGD\", \"RMSprop\", \"Adagrad\", \"Adadelta\", \"Adam\", \"Adamax\", \"Nadam\"]\n",
        "param_grid_optimizer = dict(optimizer=optimizer)\n",
        "grid_optimizer = GridSearchCV(estimator=model_optimizer, param_grid=param_grid_optimizer, cv=3, n_jobs=-1, verbose=2)\n",
        "grid_optimizer_result = grid_optimizer.fit(x_train, y_train)"
      ],
      "execution_count": 21,
      "outputs": [
        {
          "output_type": "stream",
          "text": [
            "Fitting 3 folds for each of 7 candidates, totalling 21 fits\n"
          ],
          "name": "stdout"
        },
        {
          "output_type": "stream",
          "text": [
            "[Parallel(n_jobs=-1)]: Using backend LokyBackend with 2 concurrent workers.\n",
            "/usr/local/lib/python3.6/dist-packages/joblib/externals/loky/process_executor.py:691: UserWarning: A worker stopped while some jobs were given to the executor. This can be caused by a too short worker timeout or by a memory leak.\n",
            "  \"timeout or by a memory leak.\", UserWarning\n",
            "[Parallel(n_jobs=-1)]: Done  21 out of  21 | elapsed: 34.4min finished\n"
          ],
          "name": "stderr"
        },
        {
          "output_type": "stream",
          "text": [
            "Epoch 1/30\n",
            "3000/3000 [==============================] - 6s 2ms/step - loss: 0.2959 - accuracy: 0.9101\n",
            "Epoch 2/30\n",
            "3000/3000 [==============================] - 6s 2ms/step - loss: 0.0483 - accuracy: 0.9852\n",
            "Epoch 3/30\n",
            "3000/3000 [==============================] - 6s 2ms/step - loss: 0.0334 - accuracy: 0.9894\n",
            "Epoch 4/30\n",
            "3000/3000 [==============================] - 6s 2ms/step - loss: 0.0241 - accuracy: 0.9921\n",
            "Epoch 5/30\n",
            "3000/3000 [==============================] - 6s 2ms/step - loss: 0.0184 - accuracy: 0.9932\n",
            "Epoch 6/30\n",
            "3000/3000 [==============================] - 6s 2ms/step - loss: 0.0131 - accuracy: 0.9958\n",
            "Epoch 7/30\n",
            "3000/3000 [==============================] - 6s 2ms/step - loss: 0.0129 - accuracy: 0.9960\n",
            "Epoch 8/30\n",
            "3000/3000 [==============================] - 6s 2ms/step - loss: 0.0096 - accuracy: 0.9967\n",
            "Epoch 9/30\n",
            "3000/3000 [==============================] - 6s 2ms/step - loss: 0.0066 - accuracy: 0.9979\n",
            "Epoch 10/30\n",
            "3000/3000 [==============================] - 6s 2ms/step - loss: 0.0062 - accuracy: 0.9982\n",
            "Epoch 11/30\n",
            "3000/3000 [==============================] - 6s 2ms/step - loss: 0.0054 - accuracy: 0.9980\n",
            "Epoch 12/30\n",
            "3000/3000 [==============================] - 6s 2ms/step - loss: 0.0049 - accuracy: 0.9982\n",
            "Epoch 13/30\n",
            "3000/3000 [==============================] - 6s 2ms/step - loss: 0.0048 - accuracy: 0.9984\n",
            "Epoch 14/30\n",
            "3000/3000 [==============================] - 6s 2ms/step - loss: 0.0040 - accuracy: 0.9988\n",
            "Epoch 15/30\n",
            "3000/3000 [==============================] - 6s 2ms/step - loss: 0.0045 - accuracy: 0.9985\n",
            "Epoch 16/30\n",
            "3000/3000 [==============================] - 6s 2ms/step - loss: 0.0021 - accuracy: 0.9993\n",
            "Epoch 17/30\n",
            "3000/3000 [==============================] - 6s 2ms/step - loss: 0.0055 - accuracy: 0.9984\n",
            "Epoch 18/30\n",
            "3000/3000 [==============================] - 6s 2ms/step - loss: 0.0031 - accuracy: 0.9988\n",
            "Epoch 19/30\n",
            "3000/3000 [==============================] - 6s 2ms/step - loss: 0.0037 - accuracy: 0.9988\n",
            "Epoch 20/30\n",
            "3000/3000 [==============================] - 7s 2ms/step - loss: 0.0042 - accuracy: 0.9987\n",
            "Epoch 21/30\n",
            "3000/3000 [==============================] - 6s 2ms/step - loss: 0.0024 - accuracy: 0.9992\n",
            "Epoch 22/30\n",
            "3000/3000 [==============================] - 6s 2ms/step - loss: 0.0025 - accuracy: 0.9992\n",
            "Epoch 23/30\n",
            "3000/3000 [==============================] - 6s 2ms/step - loss: 0.0029 - accuracy: 0.9991\n",
            "Epoch 24/30\n",
            "3000/3000 [==============================] - 6s 2ms/step - loss: 0.0030 - accuracy: 0.9992\n",
            "Epoch 25/30\n",
            "3000/3000 [==============================] - 6s 2ms/step - loss: 0.0032 - accuracy: 0.9991\n",
            "Epoch 26/30\n",
            "3000/3000 [==============================] - 7s 2ms/step - loss: 0.0037 - accuracy: 0.9989\n",
            "Epoch 27/30\n",
            "3000/3000 [==============================] - 6s 2ms/step - loss: 0.0028 - accuracy: 0.9992\n",
            "Epoch 28/30\n",
            "3000/3000 [==============================] - 6s 2ms/step - loss: 0.0016 - accuracy: 0.9996\n",
            "Epoch 29/30\n",
            "3000/3000 [==============================] - 6s 2ms/step - loss: 0.0034 - accuracy: 0.9990\n",
            "Epoch 30/30\n",
            "3000/3000 [==============================] - 6s 2ms/step - loss: 0.0020 - accuracy: 0.9994\n"
          ],
          "name": "stdout"
        }
      ]
    },
    {
      "cell_type": "code",
      "metadata": {
        "id": "uviQZqL1mREL",
        "outputId": "cb3cc264-90e7-4d66-82e4-a44b3d270837",
        "colab": {
          "base_uri": "https://localhost:8080/"
        }
      },
      "source": [
        "print(grid_optimizer_result.best_score_, grid_optimizer_result.best_params_)"
      ],
      "execution_count": 22,
      "outputs": [
        {
          "output_type": "stream",
          "text": [
            "0.9891833464304606 {'optimizer': 'Adam'}\n"
          ],
          "name": "stdout"
        }
      ]
    },
    {
      "cell_type": "code",
      "metadata": {
        "id": "HHAEVdXLuYdq"
      },
      "source": [
        "#build the model\n",
        "def create_model_lr(learning_rate=0.01):\n",
        "    model = keras.models.Sequential()\n",
        "    model.add(keras.layers.Conv2D(16, (3,3), activation=\"relu\", input_shape=(28,28,1)))\n",
        "    model.add(keras.layers.MaxPool2D(2,2))\n",
        "    model.add(keras.layers.Conv2D(32, (3,3), activation=\"relu\"))\n",
        "    model.add(keras.layers.MaxPool2D(2,2))\n",
        "    model.add(keras.layers.Flatten())\n",
        "    model.add(keras.layers.Dense(128, activation=\"relu\"))\n",
        "    model.add(keras.layers.Dense(10, activation=\"softmax\"))\n",
        "    optimizer = keras.optimizers.Adam(lr=learning_rate)\n",
        "    model.compile(loss=\"sparse_categorical_crossentropy\", optimizer=optimizer, metrics=[\"accuracy\"])\n",
        "    return model"
      ],
      "execution_count": 26,
      "outputs": []
    },
    {
      "cell_type": "code",
      "metadata": {
        "id": "wnD0-Sn_uZjF",
        "outputId": "41dbc8e3-65e2-4028-fd54-d5cb3bd6ada1",
        "colab": {
          "base_uri": "https://localhost:8080/"
        }
      },
      "source": [
        "#Model for learning rate optimization\n",
        "model_lr = KerasClassifier(build_fn=create_model_lr, epochs=30, batch_size=20)\n",
        "learning_rate = [0.001, 0.01, 0.1, 0.2, 0.3]\n",
        "#momentum = [0.0, 0.2, 0.4, 0.6, 0.8, 0.9]\n",
        "param_grid_lr = dict(learning_rate=learning_rate)\n",
        "grid_lr = GridSearchCV(estimator=model_lr, param_grid=param_grid_lr, cv=3, n_jobs=-1, verbose=2)\n",
        "grid_lr_result = grid_lr.fit(x_train, y_train)"
      ],
      "execution_count": 27,
      "outputs": [
        {
          "output_type": "stream",
          "text": [
            "Fitting 3 folds for each of 5 candidates, totalling 15 fits\n"
          ],
          "name": "stdout"
        },
        {
          "output_type": "stream",
          "text": [
            "[Parallel(n_jobs=-1)]: Using backend LokyBackend with 2 concurrent workers.\n",
            "/usr/local/lib/python3.6/dist-packages/joblib/externals/loky/process_executor.py:691: UserWarning: A worker stopped while some jobs were given to the executor. This can be caused by a too short worker timeout or by a memory leak.\n",
            "  \"timeout or by a memory leak.\", UserWarning\n",
            "[Parallel(n_jobs=-1)]: Done  15 out of  15 | elapsed: 22.6min finished\n"
          ],
          "name": "stderr"
        },
        {
          "output_type": "stream",
          "text": [
            "Epoch 1/30\n",
            "3000/3000 [==============================] - 6s 2ms/step - loss: 0.3020 - accuracy: 0.9110\n",
            "Epoch 2/30\n",
            "3000/3000 [==============================] - 6s 2ms/step - loss: 0.0472 - accuracy: 0.9859\n",
            "Epoch 3/30\n",
            "3000/3000 [==============================] - 6s 2ms/step - loss: 0.0330 - accuracy: 0.9899\n",
            "Epoch 4/30\n",
            "3000/3000 [==============================] - 6s 2ms/step - loss: 0.0224 - accuracy: 0.9929\n",
            "Epoch 5/30\n",
            "3000/3000 [==============================] - 6s 2ms/step - loss: 0.0161 - accuracy: 0.9947\n",
            "Epoch 6/30\n",
            "3000/3000 [==============================] - 6s 2ms/step - loss: 0.0126 - accuracy: 0.9960\n",
            "Epoch 7/30\n",
            "3000/3000 [==============================] - 6s 2ms/step - loss: 0.0104 - accuracy: 0.9968\n",
            "Epoch 8/30\n",
            "3000/3000 [==============================] - 6s 2ms/step - loss: 0.0085 - accuracy: 0.9968\n",
            "Epoch 9/30\n",
            "3000/3000 [==============================] - 6s 2ms/step - loss: 0.0065 - accuracy: 0.9979\n",
            "Epoch 10/30\n",
            "3000/3000 [==============================] - 6s 2ms/step - loss: 0.0060 - accuracy: 0.9978\n",
            "Epoch 11/30\n",
            "3000/3000 [==============================] - 6s 2ms/step - loss: 0.0053 - accuracy: 0.9980\n",
            "Epoch 12/30\n",
            "3000/3000 [==============================] - 6s 2ms/step - loss: 0.0042 - accuracy: 0.9985\n",
            "Epoch 13/30\n",
            "3000/3000 [==============================] - 6s 2ms/step - loss: 0.0048 - accuracy: 0.9985\n",
            "Epoch 14/30\n",
            "3000/3000 [==============================] - 6s 2ms/step - loss: 0.0040 - accuracy: 0.9986\n",
            "Epoch 15/30\n",
            "3000/3000 [==============================] - 6s 2ms/step - loss: 0.0040 - accuracy: 0.9985\n",
            "Epoch 16/30\n",
            "3000/3000 [==============================] - 6s 2ms/step - loss: 0.0034 - accuracy: 0.9989\n",
            "Epoch 17/30\n",
            "3000/3000 [==============================] - 6s 2ms/step - loss: 0.0037 - accuracy: 0.9986\n",
            "Epoch 18/30\n",
            "3000/3000 [==============================] - 6s 2ms/step - loss: 0.0037 - accuracy: 0.9988\n",
            "Epoch 19/30\n",
            "3000/3000 [==============================] - 6s 2ms/step - loss: 0.0028 - accuracy: 0.9991\n",
            "Epoch 20/30\n",
            "3000/3000 [==============================] - 6s 2ms/step - loss: 0.0026 - accuracy: 0.9991\n",
            "Epoch 21/30\n",
            "3000/3000 [==============================] - 6s 2ms/step - loss: 0.0030 - accuracy: 0.9992\n",
            "Epoch 22/30\n",
            "3000/3000 [==============================] - 6s 2ms/step - loss: 0.0036 - accuracy: 0.9988\n",
            "Epoch 23/30\n",
            "3000/3000 [==============================] - 6s 2ms/step - loss: 0.0022 - accuracy: 0.9993\n",
            "Epoch 24/30\n",
            "3000/3000 [==============================] - 6s 2ms/step - loss: 0.0051 - accuracy: 0.9984\n",
            "Epoch 25/30\n",
            "3000/3000 [==============================] - 6s 2ms/step - loss: 0.0021 - accuracy: 0.9992\n",
            "Epoch 26/30\n",
            "3000/3000 [==============================] - 7s 2ms/step - loss: 0.0019 - accuracy: 0.9995\n",
            "Epoch 27/30\n",
            "3000/3000 [==============================] - 6s 2ms/step - loss: 0.0025 - accuracy: 0.9993\n",
            "Epoch 28/30\n",
            "3000/3000 [==============================] - 6s 2ms/step - loss: 0.0034 - accuracy: 0.9990\n",
            "Epoch 29/30\n",
            "3000/3000 [==============================] - 6s 2ms/step - loss: 0.0028 - accuracy: 0.9993\n",
            "Epoch 30/30\n",
            "3000/3000 [==============================] - 7s 2ms/step - loss: 0.0018 - accuracy: 0.9995\n"
          ],
          "name": "stdout"
        }
      ]
    },
    {
      "cell_type": "code",
      "metadata": {
        "id": "DKpUUFNz49Jl",
        "outputId": "7f9ea39b-be35-48b5-e6e4-79b472ff2920",
        "colab": {
          "base_uri": "https://localhost:8080/"
        }
      },
      "source": [
        "print(grid_lr_result.best_score_, grid_lr_result.best_params_)"
      ],
      "execution_count": 28,
      "outputs": [
        {
          "output_type": "stream",
          "text": [
            "0.9888000090916952 {'learning_rate': 0.001}\n"
          ],
          "name": "stdout"
        }
      ]
    },
    {
      "cell_type": "code",
      "metadata": {
        "id": "hHYMzHor_W8a"
      },
      "source": [
        "#build final model\n",
        "final_model = keras.models.Sequential([\n",
        "    keras.layers.Conv2D(16, (3,3), activation=\"relu\", input_shape=(28,28,1)),\n",
        "    keras.layers.MaxPool2D(2,2),\n",
        "    keras.layers.Conv2D(32, (3,3), activation=\"relu\"),\n",
        "    keras.layers.MaxPool2D(2,2),\n",
        "    keras.layers.Flatten(),\n",
        "    keras.layers.Dense(128, activation=\"relu\"),\n",
        "    keras.layers.Dense(10, activation=\"softmax\")                             \n",
        "])"
      ],
      "execution_count": 32,
      "outputs": []
    },
    {
      "cell_type": "code",
      "metadata": {
        "id": "zX3AyqlX_05W",
        "outputId": "e68b8a32-5570-427b-c049-a50d0ffe4d4f",
        "colab": {
          "base_uri": "https://localhost:8080/"
        }
      },
      "source": [
        "final_model.summary()"
      ],
      "execution_count": 34,
      "outputs": [
        {
          "output_type": "stream",
          "text": [
            "Model: \"sequential_6\"\n",
            "_________________________________________________________________\n",
            "Layer (type)                 Output Shape              Param #   \n",
            "=================================================================\n",
            "conv2d_14 (Conv2D)           (None, 26, 26, 16)        160       \n",
            "_________________________________________________________________\n",
            "max_pooling2d_14 (MaxPooling (None, 13, 13, 16)        0         \n",
            "_________________________________________________________________\n",
            "conv2d_15 (Conv2D)           (None, 11, 11, 32)        4640      \n",
            "_________________________________________________________________\n",
            "max_pooling2d_15 (MaxPooling (None, 5, 5, 32)          0         \n",
            "_________________________________________________________________\n",
            "flatten_7 (Flatten)          (None, 800)               0         \n",
            "_________________________________________________________________\n",
            "dense_14 (Dense)             (None, 128)               102528    \n",
            "_________________________________________________________________\n",
            "dense_15 (Dense)             (None, 10)                1290      \n",
            "=================================================================\n",
            "Total params: 108,618\n",
            "Trainable params: 108,618\n",
            "Non-trainable params: 0\n",
            "_________________________________________________________________\n"
          ],
          "name": "stdout"
        }
      ]
    },
    {
      "cell_type": "code",
      "metadata": {
        "id": "UWzWWPMyADVd"
      },
      "source": [
        "#compile finale model\n",
        "optimizer = keras.optimizers.Adam(learning_rate=0.001)\n",
        "final_model.compile(loss=\"sparse_categorical_crossentropy\", optimizer=optimizer, metrics=[\"accuracy\"])"
      ],
      "execution_count": 35,
      "outputs": []
    },
    {
      "cell_type": "code",
      "metadata": {
        "id": "JoreaJADAqZy",
        "outputId": "bf71c796-16a4-4e5e-b48e-fe31c4141d30",
        "colab": {
          "base_uri": "https://localhost:8080/"
        }
      },
      "source": [
        "#train the model\n",
        "batch_size = 20\n",
        "epochs = 30\n",
        "history = final_model.fit(x_train, y_train, batch_size=batch_size, epochs=epochs, validation_data=(x_test, y_test))"
      ],
      "execution_count": 36,
      "outputs": [
        {
          "output_type": "stream",
          "text": [
            "Epoch 1/30\n",
            "3000/3000 [==============================] - 8s 2ms/step - loss: 0.2999 - accuracy: 0.9084 - val_loss: 0.0610 - val_accuracy: 0.9799\n",
            "Epoch 2/30\n",
            "3000/3000 [==============================] - 7s 2ms/step - loss: 0.0472 - accuracy: 0.9854 - val_loss: 0.0318 - val_accuracy: 0.9898\n",
            "Epoch 3/30\n",
            "3000/3000 [==============================] - 7s 2ms/step - loss: 0.0305 - accuracy: 0.9910 - val_loss: 0.0333 - val_accuracy: 0.9888\n",
            "Epoch 4/30\n",
            "3000/3000 [==============================] - 7s 2ms/step - loss: 0.0198 - accuracy: 0.9932 - val_loss: 0.0345 - val_accuracy: 0.9888\n",
            "Epoch 5/30\n",
            "3000/3000 [==============================] - 7s 2ms/step - loss: 0.0148 - accuracy: 0.9949 - val_loss: 0.0352 - val_accuracy: 0.9893\n",
            "Epoch 6/30\n",
            "3000/3000 [==============================] - 7s 2ms/step - loss: 0.0110 - accuracy: 0.9966 - val_loss: 0.0319 - val_accuracy: 0.9905\n",
            "Epoch 7/30\n",
            "3000/3000 [==============================] - 7s 2ms/step - loss: 0.0082 - accuracy: 0.9971 - val_loss: 0.0312 - val_accuracy: 0.9910\n",
            "Epoch 8/30\n",
            "3000/3000 [==============================] - 7s 2ms/step - loss: 0.0072 - accuracy: 0.9976 - val_loss: 0.0336 - val_accuracy: 0.9909\n",
            "Epoch 9/30\n",
            "3000/3000 [==============================] - 7s 2ms/step - loss: 0.0056 - accuracy: 0.9983 - val_loss: 0.0368 - val_accuracy: 0.9904\n",
            "Epoch 10/30\n",
            "3000/3000 [==============================] - 7s 2ms/step - loss: 0.0053 - accuracy: 0.9984 - val_loss: 0.0459 - val_accuracy: 0.9888\n",
            "Epoch 11/30\n",
            "3000/3000 [==============================] - 7s 2ms/step - loss: 0.0058 - accuracy: 0.9981 - val_loss: 0.0571 - val_accuracy: 0.9890\n",
            "Epoch 12/30\n",
            "3000/3000 [==============================] - 7s 2ms/step - loss: 0.0042 - accuracy: 0.9987 - val_loss: 0.0454 - val_accuracy: 0.9892\n",
            "Epoch 13/30\n",
            "3000/3000 [==============================] - 7s 2ms/step - loss: 0.0038 - accuracy: 0.9985 - val_loss: 0.0406 - val_accuracy: 0.9917\n",
            "Epoch 14/30\n",
            "3000/3000 [==============================] - 7s 2ms/step - loss: 0.0043 - accuracy: 0.9987 - val_loss: 0.0531 - val_accuracy: 0.9892\n",
            "Epoch 15/30\n",
            "3000/3000 [==============================] - 7s 2ms/step - loss: 0.0041 - accuracy: 0.9986 - val_loss: 0.0488 - val_accuracy: 0.9909\n",
            "Epoch 16/30\n",
            "3000/3000 [==============================] - 7s 2ms/step - loss: 0.0039 - accuracy: 0.9988 - val_loss: 0.0535 - val_accuracy: 0.9900\n",
            "Epoch 17/30\n",
            "3000/3000 [==============================] - 7s 2ms/step - loss: 0.0033 - accuracy: 0.9991 - val_loss: 0.0565 - val_accuracy: 0.9912\n",
            "Epoch 18/30\n",
            "3000/3000 [==============================] - 7s 2ms/step - loss: 0.0037 - accuracy: 0.9990 - val_loss: 0.0508 - val_accuracy: 0.9914\n",
            "Epoch 19/30\n",
            "3000/3000 [==============================] - 7s 2ms/step - loss: 0.0023 - accuracy: 0.9992 - val_loss: 0.0774 - val_accuracy: 0.9858\n",
            "Epoch 20/30\n",
            "3000/3000 [==============================] - 7s 2ms/step - loss: 0.0035 - accuracy: 0.9988 - val_loss: 0.0625 - val_accuracy: 0.9892\n",
            "Epoch 21/30\n",
            "3000/3000 [==============================] - 7s 2ms/step - loss: 0.0035 - accuracy: 0.9988 - val_loss: 0.0590 - val_accuracy: 0.9900\n",
            "Epoch 22/30\n",
            "3000/3000 [==============================] - 7s 2ms/step - loss: 0.0036 - accuracy: 0.9991 - val_loss: 0.0553 - val_accuracy: 0.9913\n",
            "Epoch 23/30\n",
            "3000/3000 [==============================] - 7s 2ms/step - loss: 0.0019 - accuracy: 0.9994 - val_loss: 0.0718 - val_accuracy: 0.9879\n",
            "Epoch 24/30\n",
            "3000/3000 [==============================] - 7s 2ms/step - loss: 0.0028 - accuracy: 0.9993 - val_loss: 0.0636 - val_accuracy: 0.9902\n",
            "Epoch 25/30\n",
            "3000/3000 [==============================] - 8s 3ms/step - loss: 0.0017 - accuracy: 0.9995 - val_loss: 0.0802 - val_accuracy: 0.9884\n",
            "Epoch 26/30\n",
            "3000/3000 [==============================] - 7s 2ms/step - loss: 0.0049 - accuracy: 0.9989 - val_loss: 0.0673 - val_accuracy: 0.9889\n",
            "Epoch 27/30\n",
            "3000/3000 [==============================] - 7s 2ms/step - loss: 0.0019 - accuracy: 0.9995 - val_loss: 0.0670 - val_accuracy: 0.9912\n",
            "Epoch 28/30\n",
            "3000/3000 [==============================] - 7s 2ms/step - loss: 0.0028 - accuracy: 0.9993 - val_loss: 0.0649 - val_accuracy: 0.9898\n",
            "Epoch 29/30\n",
            "3000/3000 [==============================] - 7s 2ms/step - loss: 0.0013 - accuracy: 0.9995 - val_loss: 0.0743 - val_accuracy: 0.9906\n",
            "Epoch 30/30\n",
            "3000/3000 [==============================] - 7s 2ms/step - loss: 0.0013 - accuracy: 0.9996 - val_loss: 0.0673 - val_accuracy: 0.9905\n"
          ],
          "name": "stdout"
        }
      ]
    },
    {
      "cell_type": "code",
      "metadata": {
        "id": "-yYo8m2tA6nI"
      },
      "source": [
        "accuracy = history.history[\"accuracy\"]\n",
        "loss = history.history[\"loss\"]\n",
        "val_accuracy = history.history[\"val_accuracy\"]\n",
        "val_loss = history.history[\"val_loss\"]"
      ],
      "execution_count": 38,
      "outputs": []
    },
    {
      "cell_type": "code",
      "metadata": {
        "id": "hEDJvyLKB6mu",
        "outputId": "dae32ecc-773e-4fec-95d4-c2b151a56bc4",
        "colab": {
          "base_uri": "https://localhost:8080/",
          "height": 282
        }
      },
      "source": [
        "plt.plot(accuracy, label=\"accuracy\")\n",
        "plt.plot(loss, label=\"loss\")\n",
        "plt.plot(val_accuracy, label=\"val_accuracy\")\n",
        "plt.plot(val_loss, label=\"val_loss\")\n",
        "plt.legend()"
      ],
      "execution_count": 43,
      "outputs": [
        {
          "output_type": "execute_result",
          "data": {
            "text/plain": [
              "<matplotlib.legend.Legend at 0x7f3774aff0f0>"
            ]
          },
          "metadata": {
            "tags": []
          },
          "execution_count": 43
        },
        {
          "output_type": "display_data",
          "data": {
            "image/png": "[encoded data removed]",
            "text/plain": [
              "<Figure size 432x288 with 1 Axes>"
            ]
          },
          "metadata": {
            "tags": [],
            "needs_background": "light"
          }
        }
      ]
    }
  ]
}