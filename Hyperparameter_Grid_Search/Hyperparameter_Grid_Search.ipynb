{
  "nbformat": 4,
  "nbformat_minor": 0,
  "metadata": {
    "colab": {
      "name": "Hyperparameter_Grid_Search.ipynb",
      "provenance": []
    },
    "kernelspec": {
      "name": "python3",
      "display_name": "Python 3"
    },
    "accelerator": "GPU"
  },
  "cells": [
    {
      "cell_type": "code",
      "metadata": {
        "id": "MHokXEyRvAPP"
      },
      "source": [
        "import tensorflow as tf\n",
        "from tensorflow import keras\n",
        "from sklearn.model_selection import GridSearchCV\n",
        "from tensorflow.keras.wrappers.scikit_learn import KerasClassifier"
      ],
      "execution_count": 1,
      "outputs": []
    },
    {
      "cell_type": "code",
      "metadata": {
        "id": "s2lbNVRK-bPk",
        "outputId": "bd1d354f-e9d7-4c99-ffc9-e5264eef33bd",
        "colab": {
          "base_uri": "https://localhost:8080/"
        }
      },
      "source": [
        "#load mnist data\n",
        "(x_train, y_train), (x_test, y_test) = tf.keras.datasets.mnist.load_data()"
      ],
      "execution_count": 2,
      "outputs": [
        {
          "output_type": "stream",
          "text": [
            "Downloading data from https://storage.googleapis.com/tensorflow/tf-keras-datasets/mnist.npz\n",
            "11493376/11490434 [==============================] - 0s 0us/step\n"
          ],
          "name": "stdout"
        }
      ]
    },
    {
      "cell_type": "code",
      "metadata": {
        "id": "gQ4K1d1c-dXk"
      },
      "source": [
        "#normalize the data\n",
        "x_train = (x_train.astype(\"float32\")) / 255.0\n",
        "x_test = (x_test.astype(\"float32\")) / 255.0\n",
        "\n",
        "#reshape the data to have a single channel\n",
        "x_train = x_train.reshape((x_train.shape[0], 28,28,1))\n",
        "x_test = x_test.reshape((x_test.shape[0], 28,28,1))"
      ],
      "execution_count": 3,
      "outputs": []
    },
    {
      "cell_type": "code",
      "metadata": {
        "id": "X0yflkoK-fCI"
      },
      "source": [
        "#build the model\n",
        "def create_model():\n",
        "    model = keras.models.Sequential()\n",
        "    model.add(keras.layers.Conv2D(16, (3,3), activation=\"relu\", input_shape=(28,28,1)))\n",
        "    model.add(keras.layers.MaxPool2D(2,2))\n",
        "    model.add(keras.layers.Conv2D(32, (3,3), activation=\"relu\"))\n",
        "    model.add(keras.layers.MaxPool2D(2,2))\n",
        "    model.add(keras.layers.Flatten())\n",
        "    model.add(keras.layers.Dense(128, activation=\"relu\"))\n",
        "    model.add(keras.layers.Dense(10, activation=\"softmax\"))\n",
        "    model.compile(loss=\"sparse_categorical_crossentropy\", optimizer=\"adam\", metrics=[\"accuracy\"])\n",
        "    return model"
      ],
      "execution_count": 4,
      "outputs": []
    },
    {
      "cell_type": "code",
      "metadata": {
        "id": "o5d68mVa-gKu"
      },
      "source": [
        "#create the model\n",
        "model = KerasClassifier(build_fn=create_model)"
      ],
      "execution_count": 5,
      "outputs": []
    },
    {
      "cell_type": "code",
      "metadata": {
        "id": "Hio11XQf-iS9"
      },
      "source": [
        "#grid search parameters\n",
        "batch_size = [10, 20, 40, 60, 80, 100]\n",
        "epochs = [10, 50, 100]\n",
        "\n",
        "param_grid = dict(batch_size=batch_size, epochs=epochs)"
      ],
      "execution_count": 6,
      "outputs": []
    },
    {
      "cell_type": "code",
      "metadata": {
        "id": "YqEvmPmf-j28"
      },
      "source": [
        "#n_jobs = process will use all cores on the machine\n",
        "#cv = use 3 fold grid search\n",
        "grid = GridSearchCV(estimator=model, param_grid=param_grid, n_jobs=-1, cv=3, verbose=2)"
      ],
      "execution_count": 9,
      "outputs": []
    },
    {
      "cell_type": "code",
      "metadata": {
        "id": "1vuivaKF-lPl"
      },
      "source": [
        "#grid_result = grid.fit(x_train, y_train)"
      ],
      "execution_count": 11,
      "outputs": []
    },
    {
      "cell_type": "code",
      "metadata": {
        "id": "72NXXW_t-mwm"
      },
      "source": [
        ""
      ],
      "execution_count": null,
      "outputs": []
    }
  ]
}