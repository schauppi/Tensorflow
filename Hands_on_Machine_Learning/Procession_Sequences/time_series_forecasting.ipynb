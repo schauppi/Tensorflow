{
 "cells": [
  {
   "cell_type": "code",
   "execution_count": 2,
   "metadata": {},
   "outputs": [],
   "source": [
    "import tensorflow as tf\n",
    "from tensorflow import keras\n",
    "import numpy as np"
   ]
  },
  {
   "cell_type": "code",
   "execution_count": 37,
   "metadata": {},
   "outputs": [],
   "source": [
    "#generate basic sequence\n",
    "def generate_time_series(batch_size, n_steps):\n",
    "    freq1, freq2, offset1, offset2 = np.random.rand(4, batch_size, 1)\n",
    "    time = np.linspace(0,1,n_steps)\n",
    "    series = 0.5 * np.sin((time-offset1)) * (freq1 * 10 + 10) # wave 1\n",
    "    series += 0.2 * np.sin((time-offset2)) * (freq2 * 20 + 20) # wave 2\n",
    "    series += 0.1 * (np.random.rand(batch_size, n_steps) - 0.5) # noise\n",
    "    return series[..., np.newaxis].astype(np.float32)"
   ]
  },
  {
   "cell_type": "code",
   "execution_count": 39,
   "metadata": {},
   "outputs": [],
   "source": [
    "#function call\n",
    "n_steps = 50\n",
    "series = generate_time_series(10000, n_steps) # shape - [batch size, time steps, 1] ... 1 because univariate data (just one datapoint)"
   ]
  },
  {
   "cell_type": "code",
   "execution_count": 47,
   "metadata": {},
   "outputs": [],
   "source": [
    "#split the data\n",
    "x_train = series[:7000]\n",
    "y_train = series[:7000, -1]\n",
    "x_valid = series[7000:9000]\n",
    "y_valid = series[7000:9000, -1]\n",
    "x_test = series[9000:]\n",
    "y_test = series[9000:, -1]"
   ]
  },
  {
   "cell_type": "code",
   "execution_count": 49,
   "metadata": {},
   "outputs": [
    {
     "name": "stdout",
     "output_type": "stream",
     "text": [
      "(7000, 50, 1)\n",
      "(7000, 1)\n",
      "(2000, 50, 1)\n",
      "(2000, 1)\n",
      "(1000, 50, 1)\n",
      "(1000, 1)\n"
     ]
    }
   ],
   "source": [
    "#shape of data\n",
    "print(x_train.shape)\n",
    "print(y_train.shape)\n",
    "print(x_valid.shape)\n",
    "print(y_valid.shape)\n",
    "print(x_test.shape)\n",
    "print(y_test.shape)"
   ]
  },
  {
   "cell_type": "code",
   "execution_count": 51,
   "metadata": {},
   "outputs": [
    {
     "data": {
      "text/plain": [
       "array([[[ -3.068287 ],\n",
       "        [ -2.746193 ],\n",
       "        [ -2.4860034],\n",
       "        ...,\n",
       "        [  9.437799 ],\n",
       "        [  9.678124 ],\n",
       "        [  9.882854 ]],\n",
       "\n",
       "       [[-10.964413 ],\n",
       "        [-10.758991 ],\n",
       "        [-10.407338 ],\n",
       "        ...,\n",
       "        [  4.6460004],\n",
       "        [  4.941599 ],\n",
       "        [  5.3214664]],\n",
       "\n",
       "       [[ -6.6263227],\n",
       "        [ -6.3525357],\n",
       "        [ -6.138539 ],\n",
       "        ...,\n",
       "        [  5.0010266],\n",
       "        [  5.1869326],\n",
       "        [  5.5004683]],\n",
       "\n",
       "       ...,\n",
       "\n",
       "       [[ -8.790847 ],\n",
       "        [ -8.544677 ],\n",
       "        [ -8.293452 ],\n",
       "        ...,\n",
       "        [  4.1708198],\n",
       "        [  4.36597  ],\n",
       "        [  4.682662 ]],\n",
       "\n",
       "       [[ -6.8654757],\n",
       "        [ -6.6454744],\n",
       "        [ -6.360991 ],\n",
       "        ...,\n",
       "        [  6.950999 ],\n",
       "        [  7.2457633],\n",
       "        [  7.49898  ]],\n",
       "\n",
       "       [[ -7.655738 ],\n",
       "        [ -7.4009795],\n",
       "        [ -7.1971183],\n",
       "        ...,\n",
       "        [  6.057204 ],\n",
       "        [  6.4058194],\n",
       "        [  6.6601977]]], dtype=float32)"
      ]
     },
     "execution_count": 51,
     "metadata": {},
     "output_type": "execute_result"
    }
   ],
   "source": [
    "x_test"
   ]
  },
  {
   "cell_type": "code",
   "execution_count": null,
   "metadata": {},
   "outputs": [],
   "source": []
  }
 ],
 "metadata": {
  "kernelspec": {
   "display_name": "Python 3",
   "language": "python",
   "name": "python3"
  },
  "language_info": {
   "codemirror_mode": {
    "name": "ipython",
    "version": 3
   },
   "file_extension": ".py",
   "mimetype": "text/x-python",
   "name": "python",
   "nbconvert_exporter": "python",
   "pygments_lexer": "ipython3",
   "version": "3.7.9"
  }
 },
 "nbformat": 4,
 "nbformat_minor": 4
}
