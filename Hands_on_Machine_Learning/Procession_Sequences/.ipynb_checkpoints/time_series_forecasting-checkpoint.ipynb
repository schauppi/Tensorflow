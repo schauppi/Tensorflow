{
 "cells": [
  {
   "cell_type": "code",
   "execution_count": 95,
   "metadata": {},
   "outputs": [],
   "source": [
    "import tensorflow as tf\n",
    "from tensorflow import keras\n",
    "import numpy as np\n",
    "import matplotlib.pyplot as plt"
   ]
  },
  {
   "cell_type": "code",
   "execution_count": 96,
   "metadata": {},
   "outputs": [],
   "source": [
    "#generate basic sequence\n",
    "def generate_time_series(batch_size, n_steps):\n",
    "    freq1, freq2, offsets1, offsets2 = np.random.rand(4, batch_size, 1)\n",
    "    time = np.linspace(0, 1, n_steps)\n",
    "    series = 0.5 * np.sin((time - offsets1) * (freq1 * 10 + 10)) # wave 1\n",
    "    series += 0.2 * np.sin((time - offsets2) * (freq2 * 20 + 20)) # + wave 2\n",
    "    series += 0.1 * (np.random.rand(batch_size, n_steps) - 0.5) # + noise\n",
    "    return series[..., np.newaxis].astype(np.float32)"
   ]
  },
  {
   "cell_type": "code",
   "execution_count": 97,
   "metadata": {},
   "outputs": [],
   "source": [
    "#function call\n",
    "n_steps = 50\n",
    "series = generate_time_series(10000, n_steps +1 ) # shape - [batch size, time steps, 1] ... 1 because univariate data (just one datapoint)"
   ]
  },
  {
   "cell_type": "code",
   "execution_count": 98,
   "metadata": {},
   "outputs": [
    {
     "data": {
      "text/plain": [
       "[<matplotlib.lines.Line2D at 0x7fbba3b6a3d0>]"
      ]
     },
     "execution_count": 98,
     "metadata": {},
     "output_type": "execute_result"
    },
    {
     "data": {
      "image/png": "[encoded data removed]",
      "text/plain": [
       "<Figure size 432x288 with 3 Axes>"
      ]
     },
     "metadata": {
      "needs_background": "light"
     },
     "output_type": "display_data"
    }
   ],
   "source": [
    "#plot the first 3 series\n",
    "fig, (ax1, ax2, ax3) = plt.subplots(1, 3)\n",
    "fig.suptitle('Horizontally stacked subplots')\n",
    "ax1.plot(x_train[0])\n",
    "ax2.plot(x_train[1])\n",
    "ax3.plot(x_train[2])"
   ]
  },
  {
   "cell_type": "code",
   "execution_count": 99,
   "metadata": {},
   "outputs": [],
   "source": [
    "#split the data\n",
    "x_train = series[:7000]\n",
    "y_train = series[:7000, -1]\n",
    "x_valid = series[7000:9000]\n",
    "y_valid = series[7000:9000, -1]\n",
    "x_test = series[9000:]\n",
    "y_test = series[9000:, -1]"
   ]
  },
  {
   "cell_type": "code",
   "execution_count": 100,
   "metadata": {},
   "outputs": [
    {
     "name": "stdout",
     "output_type": "stream",
     "text": [
      "(7000, 51, 1)\n",
      "(7000, 1)\n",
      "(2000, 51, 1)\n",
      "(2000, 1)\n",
      "(1000, 51, 1)\n",
      "(1000, 1)\n"
     ]
    }
   ],
   "source": [
    "#shape of data\n",
    "print(x_train.shape)\n",
    "print(y_train.shape)\n",
    "print(x_valid.shape)\n",
    "print(y_valid.shape)\n",
    "print(x_test.shape)\n",
    "print(y_test.shape)"
   ]
  },
  {
   "cell_type": "code",
   "execution_count": 101,
   "metadata": {},
   "outputs": [],
   "source": [
    "model = keras.models.Sequential([\n",
    "keras.layers.SimpleRNN(20, return_sequences=True, input_shape=[None, 1]),\n",
    "keras.layers.SimpleRNN(20),\n",
    "keras.layers.Dense(1)\n",
    "])"
   ]
  },
  {
   "cell_type": "code",
   "execution_count": 102,
   "metadata": {},
   "outputs": [],
   "source": [
    "model.compile(loss=\"mse\", optimizer=\"Adam\", metrics=[\"mae\"])"
   ]
  },
  {
   "cell_type": "code",
   "execution_count": 103,
   "metadata": {},
   "outputs": [
    {
     "name": "stdout",
     "output_type": "stream",
     "text": [
      "Train on 7000 samples\n",
      "Epoch 1/10\n",
      "7000/7000 [==============================] - 14s 2ms/sample - loss: 0.0267 - mae: 0.0922\n",
      "Epoch 2/10\n",
      "7000/7000 [==============================] - 12s 2ms/sample - loss: 0.0018 - mae: 0.0340\n",
      "Epoch 3/10\n",
      "7000/7000 [==============================] - 11s 2ms/sample - loss: 7.6345e-04 - mae: 0.0219\n",
      "Epoch 4/10\n",
      "7000/7000 [==============================] - 11s 2ms/sample - loss: 3.7769e-04 - mae: 0.0154\n",
      "Epoch 5/10\n",
      "7000/7000 [==============================] - 11s 2ms/sample - loss: 2.2114e-04 - mae: 0.0117\n",
      "Epoch 6/10\n",
      "7000/7000 [==============================] - 11s 2ms/sample - loss: 1.5027e-04 - mae: 0.0097\n",
      "Epoch 7/10\n",
      "7000/7000 [==============================] - 11s 2ms/sample - loss: 1.1543e-04 - mae: 0.0085\n",
      "Epoch 8/10\n",
      "7000/7000 [==============================] - 12s 2ms/sample - loss: 9.3235e-05 - mae: 0.0076\n",
      "Epoch 9/10\n",
      "7000/7000 [==============================] - 11s 2ms/sample - loss: 7.6456e-05 - mae: 0.0069\n",
      "Epoch 10/10\n",
      "7000/7000 [==============================] - 12s 2ms/sample - loss: 6.2599e-05 - mae: 0.0062\n"
     ]
    },
    {
     "data": {
      "text/plain": [
       "<tensorflow.python.keras.callbacks.History at 0x7fbbc2fad2d0>"
      ]
     },
     "execution_count": 103,
     "metadata": {},
     "output_type": "execute_result"
    }
   ],
   "source": [
    "model.fit(x_train, y_train, epochs=10)"
   ]
  },
  {
   "cell_type": "code",
   "execution_count": null,
   "metadata": {},
   "outputs": [],
   "source": []
  }
 ],
 "metadata": {
  "kernelspec": {
   "display_name": "Python 3",
   "language": "python",
   "name": "python3"
  },
  "language_info": {
   "codemirror_mode": {
    "name": "ipython",
    "version": 3
   },
   "file_extension": ".py",
   "mimetype": "text/x-python",
   "name": "python",
   "nbconvert_exporter": "python",
   "pygments_lexer": "ipython3",
   "version": "3.7.9"
  }
 },
 "nbformat": 4,
 "nbformat_minor": 4
}
