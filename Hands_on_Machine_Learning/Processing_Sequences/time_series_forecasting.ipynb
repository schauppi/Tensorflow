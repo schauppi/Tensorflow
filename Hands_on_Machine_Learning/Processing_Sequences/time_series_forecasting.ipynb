{
 "cells": [
  {
   "cell_type": "code",
   "execution_count": 10,
   "metadata": {},
   "outputs": [],
   "source": [
    "import tensorflow as tf\n",
    "from tensorflow import keras\n",
    "import numpy as np\n",
    "import matplotlib.pyplot as plt"
   ]
  },
  {
   "cell_type": "code",
   "execution_count": 11,
   "metadata": {},
   "outputs": [],
   "source": [
    "#generate basic sequence\n",
    "def generate_time_series(batch_size, n_steps):\n",
    "    freq1, freq2, offsets1, offsets2 = np.random.rand(4, batch_size, 1)\n",
    "    time = np.linspace(0, 1, n_steps)\n",
    "    series = 0.5 * np.sin((time - offsets1) * (freq1 * 10 + 10)) # wave 1\n",
    "    series += 0.2 * np.sin((time - offsets2) * (freq2 * 20 + 20)) # + wave 2\n",
    "    series += 0.1 * (np.random.rand(batch_size, n_steps) - 0.5) # + noise\n",
    "    return series[..., np.newaxis].astype(np.float32)"
   ]
  },
  {
   "cell_type": "code",
   "execution_count": 12,
   "metadata": {},
   "outputs": [],
   "source": [
    "#function call\n",
    "n_steps = 50\n",
    "series = generate_time_series(10000, n_steps +1 ) # shape - [batch size, time steps, 1] ... 1 because univariate data (just one datapoint)"
   ]
  },
  {
   "cell_type": "code",
   "execution_count": 14,
   "metadata": {},
   "outputs": [],
   "source": [
    "#split the data\n",
    "x_train = series[:7000]\n",
    "y_train = series[:7000, -1]\n",
    "x_valid = series[7000:9000]\n",
    "y_valid = series[7000:9000, -1]\n",
    "x_test = series[9000:]\n",
    "y_test = series[9000:, -1]"
   ]
  },
  {
   "cell_type": "code",
   "execution_count": 15,
   "metadata": {},
   "outputs": [
    {
     "data": {
      "text/plain": [
       "[<matplotlib.lines.Line2D at 0x7fede84061d0>]"
      ]
     },
     "execution_count": 15,
     "metadata": {},
     "output_type": "execute_result"
    },
    {
     "data": {
      "image/png": "[encoded data removed]",
      "text/plain": [
       "<Figure size 432x288 with 3 Axes>"
      ]
     },
     "metadata": {
      "needs_background": "light"
     },
     "output_type": "display_data"
    }
   ],
   "source": [
    "#plot the first 3 series\n",
    "fig, (ax1, ax2, ax3) = plt.subplots(1, 3)\n",
    "fig.suptitle('Horizontally stacked subplots')\n",
    "ax1.plot(x_train[0])\n",
    "ax2.plot(x_train[1])\n",
    "ax3.plot(x_train[2])"
   ]
  },
  {
   "cell_type": "code",
   "execution_count": 16,
   "metadata": {},
   "outputs": [
    {
     "name": "stdout",
     "output_type": "stream",
     "text": [
      "(7000, 51, 1)\n",
      "(7000, 1)\n",
      "(2000, 51, 1)\n",
      "(2000, 1)\n",
      "(1000, 51, 1)\n",
      "(1000, 1)\n"
     ]
    }
   ],
   "source": [
    "#shape of data\n",
    "print(x_train.shape)\n",
    "print(y_train.shape)\n",
    "print(x_valid.shape)\n",
    "print(y_valid.shape)\n",
    "print(x_test.shape)\n",
    "print(y_test.shape)"
   ]
  },
  {
   "cell_type": "code",
   "execution_count": 17,
   "metadata": {},
   "outputs": [],
   "source": [
    "model = keras.models.Sequential([\n",
    "keras.layers.SimpleRNN(20, return_sequences=True, input_shape=[None, 1]),\n",
    "keras.layers.SimpleRNN(20),\n",
    "keras.layers.Dense(1)\n",
    "])"
   ]
  },
  {
   "cell_type": "code",
   "execution_count": 18,
   "metadata": {},
   "outputs": [],
   "source": [
    "model.compile(loss=\"mse\", optimizer=\"Adam\", metrics=[\"mae\"])"
   ]
  },
  {
   "cell_type": "code",
   "execution_count": 19,
   "metadata": {},
   "outputs": [
    {
     "name": "stdout",
     "output_type": "stream",
     "text": [
      "Train on 7000 samples\n",
      "Epoch 1/10\n",
      "7000/7000 [==============================] - 14s 2ms/sample - loss: 0.0197 - mae: 0.0810\n",
      "Epoch 2/10\n",
      "7000/7000 [==============================] - 11s 2ms/sample - loss: 8.5815e-04 - mae: 0.0231\n",
      "Epoch 3/10\n",
      "7000/7000 [==============================] - 11s 2ms/sample - loss: 3.2721e-04 - mae: 0.0143\n",
      "Epoch 4/10\n",
      "7000/7000 [==============================] - 13s 2ms/sample - loss: 1.7615e-04 - mae: 0.0105\n",
      "Epoch 5/10\n",
      "7000/7000 [==============================] - 13s 2ms/sample - loss: 1.2754e-04 - mae: 0.0089\n",
      "Epoch 6/10\n",
      "7000/7000 [==============================] - 13s 2ms/sample - loss: 9.4368e-05 - mae: 0.0077\n",
      "Epoch 7/10\n",
      "7000/7000 [==============================] - 12s 2ms/sample - loss: 7.7236e-05 - mae: 0.0070\n",
      "Epoch 8/10\n",
      "7000/7000 [==============================] - 12s 2ms/sample - loss: 6.1014e-05 - mae: 0.0062\n",
      "Epoch 9/10\n",
      "7000/7000 [==============================] - 12s 2ms/sample - loss: 5.1013e-05 - mae: 0.0057\n",
      "Epoch 10/10\n",
      "7000/7000 [==============================] - 13s 2ms/sample - loss: 4.4190e-05 - mae: 0.0053\n"
     ]
    },
    {
     "data": {
      "text/plain": [
       "<tensorflow.python.keras.callbacks.History at 0x7fede829f5d0>"
      ]
     },
     "execution_count": 19,
     "metadata": {},
     "output_type": "execute_result"
    }
   ],
   "source": [
    "model.fit(x_train, y_train, epochs=10)"
   ]
  }
 ],
 "metadata": {
  "kernelspec": {
   "display_name": "Python 3",
   "language": "python",
   "name": "python3"
  },
  "language_info": {
   "codemirror_mode": {
    "name": "ipython",
    "version": 3
   },
   "file_extension": ".py",
   "mimetype": "text/x-python",
   "name": "python",
   "nbconvert_exporter": "python",
   "pygments_lexer": "ipython3",
   "version": "3.7.9"
  }
 },
 "nbformat": 4,
 "nbformat_minor": 4
}
