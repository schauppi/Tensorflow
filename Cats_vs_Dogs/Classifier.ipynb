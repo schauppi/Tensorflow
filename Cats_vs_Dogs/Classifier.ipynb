{
  "nbformat": 4,
  "nbformat_minor": 0,
  "metadata": {
    "colab": {
      "name": "Classifier.ipynb",
      "provenance": [],
      "mount_file_id": "1JE_rtXCf_BGbLMn0xJTXlTsFT_JBz3-K",
      "authorship_tag": "ABX9TyMP9WUHUrOGV/xoshRWPhsf",
      "include_colab_link": true
    },
    "kernelspec": {
      "name": "python3",
      "display_name": "Python 3"
    },
    "accelerator": "GPU"
  },
  "cells": [
    {
      "cell_type": "markdown",
      "metadata": {
        "id": "view-in-github",
        "colab_type": "text"
      },
      "source": [
        "<a href=\"https://colab.research.google.com/github/schauppi/Cats_vs_Dogs_Classifier/blob/schauppi/Classifier.ipynb\" target=\"_parent\"><img src=\"https://colab.research.google.com/assets/colab-badge.svg\" alt=\"Open In Colab\"/></a>"
      ]
    },
    {
      "cell_type": "code",
      "metadata": {
        "colab": {
          "base_uri": "https://localhost:8080/"
        },
        "id": "mEA_c1EnwJPQ",
        "outputId": "7b714727-67b8-4fa6-f5f4-a2777c0e5cc5"
      },
      "source": [
        "from google.colab import drive\n",
        "drive.mount('/content/drive')"
      ],
      "execution_count": 1,
      "outputs": [
        {
          "output_type": "stream",
          "text": [
            "Drive already mounted at /content/drive; to attempt to forcibly remount, call drive.mount(\"/content/drive\", force_remount=True).\n"
          ],
          "name": "stdout"
        }
      ]
    },
    {
      "cell_type": "code",
      "metadata": {
        "colab": {
          "base_uri": "https://localhost:8080/"
        },
        "id": "lhIfgYn4yK7Y",
        "outputId": "77589eaf-82be-46a9-a4a1-680fba86f8b6"
      },
      "source": [
        "import os\n",
        "import shutil\n",
        "import random\n",
        "import tensorflow as tf\n",
        "from tensorflow import keras\n",
        "from tensorflow.keras.preprocessing.image import ImageDataGenerator\n",
        "import datetime\n",
        "import time\n",
        "import matplotlib.pyplot as plt\n",
        "%load_ext tensorboard"
      ],
      "execution_count": 22,
      "outputs": [
        {
          "output_type": "stream",
          "text": [
            "The tensorboard extension is already loaded. To reload it, use:\n",
            "  %reload_ext tensorboard\n"
          ],
          "name": "stdout"
        }
      ]
    },
    {
      "cell_type": "code",
      "metadata": {
        "id": "AF_vHvtqyHpZ"
      },
      "source": [
        "#define path to train directory\n",
        "train_dir = \"/content/drive/MyDrive/Excercise_cats_v_dogs_full/dogs-vs-cats/train\"\n",
        "test_dir = \"/content/drive/MyDrive/Excercise_cats_v_dogs_full/dogs-vs-cats/test\"\n",
        "main_dir = \"/content/drive/MyDrive/Excercise_cats_v_dogs_full/dogs-vs-cats\""
      ],
      "execution_count": 3,
      "outputs": []
    },
    {
      "cell_type": "code",
      "metadata": {
        "colab": {
          "base_uri": "https://localhost:8080/"
        },
        "id": "_eO-KUM8ySi-",
        "outputId": "89349d82-d3db-46e1-fad6-6a41cda48d6e"
      },
      "source": [
        "#create train directories - check if directories exists\n",
        "cats = \"cats\"\n",
        "dogs = \"dogs\"\n",
        "cats_train_dir = os.path.join(train_dir, cats)\n",
        "dogs_train_dir = os.path.join(train_dir, dogs)\n",
        "\n",
        "if os.path.isdir(os.path.join(train_dir, cats)) == True or os.path.isdir(os.path.join(train_dir, dogs)) == True:\n",
        "  print(\"Directories already existing\")\n",
        "else:\n",
        "  os.mkdir(cats_train_dir)\n",
        "  os.mkdir(dogs_train_dir)\n",
        "  print(\"Created directories\")"
      ],
      "execution_count": 4,
      "outputs": [
        {
          "output_type": "stream",
          "text": [
            "Directories already existing\n"
          ],
          "name": "stdout"
        }
      ]
    },
    {
      "cell_type": "code",
      "metadata": {
        "colab": {
          "base_uri": "https://localhost:8080/"
        },
        "id": "enyJ6INgJj7h",
        "outputId": "1f962efc-8d95-4e4f-a780-8ca6e3e4dbb4"
      },
      "source": [
        "#create test directories - check if directories exists\n",
        "test = \"test\"\n",
        "full_test_dir = os.path.join(main_dir, test)\n",
        "cats_test_dir = os.path.join(full_test_dir, cats)\n",
        "dogs_test_dir = os.path.join(full_test_dir, dogs)\n",
        "\n",
        "if os.path.isdir(os.path.join(main_dir, test)) == True:\n",
        "  print(\"Directories already existing\")\n",
        "else:\n",
        "  test = \"test\"\n",
        "  os.mkdir(os.path.join(main_dir, test))\n",
        " \n",
        "  os.mkdir(cats_test_dir)\n",
        "  os.mkdir(dogs_test_dir)"
      ],
      "execution_count": 5,
      "outputs": [
        {
          "output_type": "stream",
          "text": [
            "Directories already existing\n"
          ],
          "name": "stdout"
        }
      ]
    },
    {
      "cell_type": "code",
      "metadata": {
        "id": "3IewOZDH99Mf"
      },
      "source": [
        "#split the cat and dog images to the train directory\n",
        "data = os.listdir(train_dir)\n",
        "\n",
        "#if filename starts with cat or dog - move to directorie\n",
        "for i in range(len(data)):\n",
        "  filename = data[i]\n",
        "  split = filename.split(\".\")\n",
        "  if split[0] == \"cat\":\n",
        "    shutil.move(os.path.join(train_dir, filename), os.path.join(cats_dir, filename))\n",
        "  elif split[0] == \"dog\":\n",
        "    shutil.move(os.path.join(train_dir, filename), os.path.join(dogs_dir, filename))\n",
        "  else:\n",
        "    pass"
      ],
      "execution_count": 6,
      "outputs": []
    },
    {
      "cell_type": "code",
      "metadata": {
        "colab": {
          "base_uri": "https://localhost:8080/"
        },
        "id": "WtEhhJWUKiEY",
        "outputId": "124838f8-f6a3-432f-97de-a6d0e72b84cf"
      },
      "source": [
        "#split the cat and dog images in the train directory to the test and train directory\n",
        "cats_data = os.listdir(cats_train_dir)\n",
        "dogs_data = os.listdir(dogs_train_dir)\n",
        "\n",
        "#if split is already done\n",
        "if len(cats_data) != 10000:\n",
        "\n",
        "  #define the splitsize\n",
        "  split_size = int(0.8 * len(cats_data))\n",
        "\n",
        "  #shuffle data\n",
        "  random.shuffle(cats_data)\n",
        "  random.shuffle(dogs_data)\n",
        "\n",
        "  test_data_cats = []\n",
        "  test_data_dogs = []\n",
        "\n",
        "  test_data_cats = cats_data[split_size:]\n",
        "  test_data_dogs = dogs_data[split_size:]\n",
        "\n",
        "  for i in range(len(test_data_cats)):\n",
        "    filename = test_data_cats[i]\n",
        "    shutil.move(os.path.join(cats_train_dir, filename), os.path.join(cats_test_dir, filename))\n",
        "\n",
        "  for i in range(len(test_data_dogs)):\n",
        "    filename = test_data_dogs[i]\n",
        "    shutil.move(os.path.join(dogs_train_dir, filename), os.path.join(dogs_test_dir, filename))\n",
        "\n",
        "else:\n",
        "  print(\"data already splitted\")"
      ],
      "execution_count": 7,
      "outputs": [
        {
          "output_type": "stream",
          "text": [
            "data already splitted\n"
          ],
          "name": "stdout"
        }
      ]
    },
    {
      "cell_type": "code",
      "metadata": {
        "colab": {
          "base_uri": "https://localhost:8080/"
        },
        "id": "sJWerqJb9-Sw",
        "outputId": "5bdd81c2-fb8a-4cdb-de17-f1b5dfe5b9a5"
      },
      "source": [
        "#check if files in folder\n",
        "len_cat_train = os.listdir(cats_train_dir)\n",
        "print(len(len_cat_train))\n",
        "\n",
        "len_dog_train = os.listdir(dogs_train_dir)\n",
        "print(len(len_dog_train))\n",
        "\n",
        "len_cat_test = os.listdir(cats_test_dir)\n",
        "print(len(len_cat_test))\n",
        "\n",
        "len_dog_test = os.listdir(dogs_test_dir)\n",
        "print(len(len_dog_test))\n"
      ],
      "execution_count": 8,
      "outputs": [
        {
          "output_type": "stream",
          "text": [
            "10000\n",
            "10000\n",
            "2500\n",
            "2500\n"
          ],
          "name": "stdout"
        }
      ]
    },
    {
      "cell_type": "code",
      "metadata": {
        "colab": {
          "base_uri": "https://localhost:8080/"
        },
        "id": "eK2WrLU6FFEP",
        "outputId": "6b3e2251-0a43-47c2-840c-f8800ba7d110"
      },
      "source": [
        "#define the data generator\n",
        "\n",
        "train_datagen = ImageDataGenerator(rescale=1./255.,\n",
        "                                   rotation_range=40,\n",
        "                                   width_shift_range=0.2,\n",
        "                                   height_shift_range=0.2,\n",
        "                                   shear_range=0.2,\n",
        "                                   zoom_range=0.2,\n",
        "                                   horizontal_flip=True)\n",
        "\n",
        "val_datagen = ImageDataGenerator(rescale=1./255.)\n",
        "\n",
        "train_generator = train_datagen.flow_from_directory(train_dir, target_size=(150,150), class_mode=\"binary\", batch_size=64)\n",
        "validation_generator = val_datagen.flow_from_directory(test_dir, target_size=(150,150), class_mode=\"binary\", batch_size=64)"
      ],
      "execution_count": 9,
      "outputs": [
        {
          "output_type": "stream",
          "text": [
            "Found 20000 images belonging to 2 classes.\n",
            "Found 5000 images belonging to 2 classes.\n"
          ],
          "name": "stdout"
        }
      ]
    },
    {
      "cell_type": "code",
      "metadata": {
        "id": "__s_oMMMTC53"
      },
      "source": [
        "model = keras.models.Sequential([\n",
        "    keras.layers.Conv2D(16, (3,3), activation=\"relu\", input_shape=[150,150,3]),\n",
        "    keras.layers.MaxPool2D(2,2),\n",
        "    keras.layers.Dropout(0.2),\n",
        "    keras.layers.Conv2D(32, (3,3), activation=\"relu\"),\n",
        "    keras.layers.MaxPool2D(2,2),\n",
        "    keras.layers.Dropout(0.2),\n",
        "    keras.layers.Conv2D(64, (3,3), activation=\"relu\"),\n",
        "    keras.layers.MaxPool2D(2,2),\n",
        "    keras.layers.Dropout(0.2),\n",
        "    keras.layers.Conv2D(128, (3,3), activation=\"relu\"),\n",
        "    keras.layers.MaxPool2D(2,2),\n",
        "    keras.layers.Dropout(0.2),\n",
        "    keras.layers.Flatten(),\n",
        "    keras.layers.Dense(512, activation=\"relu\"),\n",
        "    keras.layers.Dropout(0.2),\n",
        "    keras.layers.Dense(1, activation=\"sigmoid\")\n",
        "])"
      ],
      "execution_count": 10,
      "outputs": []
    },
    {
      "cell_type": "code",
      "metadata": {
        "colab": {
          "base_uri": "https://localhost:8080/"
        },
        "id": "0kHT7Ey6TfKz",
        "outputId": "c1276809-a83b-4f60-e77b-17886016303d"
      },
      "source": [
        "model.summary()"
      ],
      "execution_count": 11,
      "outputs": [
        {
          "output_type": "stream",
          "text": [
            "Model: \"sequential\"\n",
            "_________________________________________________________________\n",
            "Layer (type)                 Output Shape              Param #   \n",
            "=================================================================\n",
            "conv2d (Conv2D)              (None, 148, 148, 16)      448       \n",
            "_________________________________________________________________\n",
            "max_pooling2d (MaxPooling2D) (None, 74, 74, 16)        0         \n",
            "_________________________________________________________________\n",
            "dropout (Dropout)            (None, 74, 74, 16)        0         \n",
            "_________________________________________________________________\n",
            "conv2d_1 (Conv2D)            (None, 72, 72, 32)        4640      \n",
            "_________________________________________________________________\n",
            "max_pooling2d_1 (MaxPooling2 (None, 36, 36, 32)        0         \n",
            "_________________________________________________________________\n",
            "dropout_1 (Dropout)          (None, 36, 36, 32)        0         \n",
            "_________________________________________________________________\n",
            "conv2d_2 (Conv2D)            (None, 34, 34, 64)        18496     \n",
            "_________________________________________________________________\n",
            "max_pooling2d_2 (MaxPooling2 (None, 17, 17, 64)        0         \n",
            "_________________________________________________________________\n",
            "dropout_2 (Dropout)          (None, 17, 17, 64)        0         \n",
            "_________________________________________________________________\n",
            "conv2d_3 (Conv2D)            (None, 15, 15, 128)       73856     \n",
            "_________________________________________________________________\n",
            "max_pooling2d_3 (MaxPooling2 (None, 7, 7, 128)         0         \n",
            "_________________________________________________________________\n",
            "dropout_3 (Dropout)          (None, 7, 7, 128)         0         \n",
            "_________________________________________________________________\n",
            "flatten (Flatten)            (None, 6272)              0         \n",
            "_________________________________________________________________\n",
            "dense (Dense)                (None, 512)               3211776   \n",
            "_________________________________________________________________\n",
            "dropout_4 (Dropout)          (None, 512)               0         \n",
            "_________________________________________________________________\n",
            "dense_1 (Dense)              (None, 1)                 513       \n",
            "=================================================================\n",
            "Total params: 3,309,729\n",
            "Trainable params: 3,309,729\n",
            "Non-trainable params: 0\n",
            "_________________________________________________________________\n"
          ],
          "name": "stdout"
        }
      ]
    },
    {
      "cell_type": "code",
      "metadata": {
        "id": "M6P3af6NT5C5"
      },
      "source": [
        "model.compile(metrics=[\"accuracy\"], loss=\"binary_crossentropy\", optimizer=\"adam\")"
      ],
      "execution_count": 12,
      "outputs": []
    },
    {
      "cell_type": "code",
      "metadata": {
        "id": "8tKmI6N3W-uL"
      },
      "source": [
        "#define an callback\n",
        "class myCallback(tf.keras.callbacks.Callback):\n",
        "  def on_epoch_end(self, epoch, logs={}):\n",
        "    if logs.get(\"accuracy\") > 0.95:\n",
        "      print(\"Reached 95% Acc - stop training\")\n",
        "      self.model.stop_training = True\n",
        "\n",
        "callbacks = myCallback()"
      ],
      "execution_count": 13,
      "outputs": []
    },
    {
      "cell_type": "code",
      "metadata": {
        "id": "i_rSKEP9epGA"
      },
      "source": [
        "#define tensorboard callbac\n",
        "logdir = \"/content/drive/MyDrive/Cats_vs_Dogs_Classifier/my_logs\"\n",
        "\n",
        "def get_run_logdir():\n",
        "  run_id = time.strftime(\"run_%Y_%m_%d-%H_%M_%S\")\n",
        "  return os.path.join(logdir, run_id)\n",
        "\n",
        "run_logdir = get_run_logdir()\n",
        "\n",
        "tensorboard_callback = tf.keras.callbacks.TensorBoard(run_logdir)"
      ],
      "execution_count": 14,
      "outputs": []
    },
    {
      "cell_type": "code",
      "metadata": {
        "id": "ZdnkfrbDfLJW"
      },
      "source": [
        "#%tensorboard --logdir \"/content/drive/MyDrive/Cats_vs_Dogs_Classifier/my_logs\""
      ],
      "execution_count": 15,
      "outputs": []
    },
    {
      "cell_type": "code",
      "metadata": {
        "colab": {
          "base_uri": "https://localhost:8080/"
        },
        "id": "Z1FjAB-cUs2i",
        "outputId": "a65c8446-c732-4651-c242-c894a62d3c61"
      },
      "source": [
        "history = model.fit(train_generator, steps_per_epoch=(len(train_generator)), epochs=25, validation_data = validation_generator, validation_steps=len(validation_generator), callbacks=[callbacks, tensorboard_callback])"
      ],
      "execution_count": 16,
      "outputs": [
        {
          "output_type": "stream",
          "text": [
            "Epoch 1/25\n",
            "313/313 [==============================] - 3611s 12s/step - loss: 0.7194 - accuracy: 0.5200 - val_loss: 0.6521 - val_accuracy: 0.6042\n",
            "Epoch 2/25\n",
            "313/313 [==============================] - 175s 559ms/step - loss: 0.6495 - accuracy: 0.6051 - val_loss: 0.5884 - val_accuracy: 0.6814\n",
            "Epoch 3/25\n",
            "313/313 [==============================] - 172s 550ms/step - loss: 0.6081 - accuracy: 0.6610 - val_loss: 0.5431 - val_accuracy: 0.7254\n",
            "Epoch 4/25\n",
            "313/313 [==============================] - 172s 549ms/step - loss: 0.5721 - accuracy: 0.7010 - val_loss: 0.4954 - val_accuracy: 0.7626\n",
            "Epoch 5/25\n",
            "313/313 [==============================] - 171s 545ms/step - loss: 0.5539 - accuracy: 0.7151 - val_loss: 0.5037 - val_accuracy: 0.7544\n",
            "Epoch 6/25\n",
            "313/313 [==============================] - 172s 549ms/step - loss: 0.5334 - accuracy: 0.7322 - val_loss: 0.4489 - val_accuracy: 0.7966\n",
            "Epoch 7/25\n",
            "313/313 [==============================] - 171s 546ms/step - loss: 0.5143 - accuracy: 0.7472 - val_loss: 0.4285 - val_accuracy: 0.8096\n",
            "Epoch 8/25\n",
            "313/313 [==============================] - 171s 547ms/step - loss: 0.4956 - accuracy: 0.7618 - val_loss: 0.4268 - val_accuracy: 0.8056\n",
            "Epoch 9/25\n",
            "313/313 [==============================] - 171s 547ms/step - loss: 0.4881 - accuracy: 0.7675 - val_loss: 0.3918 - val_accuracy: 0.8248\n",
            "Epoch 10/25\n",
            "313/313 [==============================] - 171s 546ms/step - loss: 0.4582 - accuracy: 0.7830 - val_loss: 0.4681 - val_accuracy: 0.7848\n",
            "Epoch 11/25\n",
            "313/313 [==============================] - 172s 550ms/step - loss: 0.4527 - accuracy: 0.7882 - val_loss: 0.3536 - val_accuracy: 0.8456\n",
            "Epoch 12/25\n",
            "313/313 [==============================] - 172s 549ms/step - loss: 0.4400 - accuracy: 0.7942 - val_loss: 0.3624 - val_accuracy: 0.8344\n",
            "Epoch 13/25\n",
            "313/313 [==============================] - 172s 551ms/step - loss: 0.4274 - accuracy: 0.8002 - val_loss: 0.3152 - val_accuracy: 0.8618\n",
            "Epoch 14/25\n",
            "313/313 [==============================] - 171s 546ms/step - loss: 0.4127 - accuracy: 0.8032 - val_loss: 0.3057 - val_accuracy: 0.8692\n",
            "Epoch 15/25\n",
            "313/313 [==============================] - 173s 552ms/step - loss: 0.4114 - accuracy: 0.8120 - val_loss: 0.3037 - val_accuracy: 0.8718\n",
            "Epoch 16/25\n",
            "313/313 [==============================] - 172s 548ms/step - loss: 0.3956 - accuracy: 0.8191 - val_loss: 0.3224 - val_accuracy: 0.8622\n",
            "Epoch 17/25\n",
            "313/313 [==============================] - 172s 550ms/step - loss: 0.3830 - accuracy: 0.8266 - val_loss: 0.3152 - val_accuracy: 0.8638\n",
            "Epoch 18/25\n",
            "313/313 [==============================] - 172s 551ms/step - loss: 0.3807 - accuracy: 0.8280 - val_loss: 0.2830 - val_accuracy: 0.8782\n",
            "Epoch 19/25\n",
            "313/313 [==============================] - 174s 557ms/step - loss: 0.3715 - accuracy: 0.8306 - val_loss: 0.3126 - val_accuracy: 0.8678\n",
            "Epoch 20/25\n",
            "313/313 [==============================] - 175s 559ms/step - loss: 0.3615 - accuracy: 0.8347 - val_loss: 0.2775 - val_accuracy: 0.8878\n",
            "Epoch 21/25\n",
            "313/313 [==============================] - 173s 553ms/step - loss: 0.3634 - accuracy: 0.8359 - val_loss: 0.2836 - val_accuracy: 0.8812\n",
            "Epoch 22/25\n",
            "313/313 [==============================] - 177s 566ms/step - loss: 0.3521 - accuracy: 0.8434 - val_loss: 0.2783 - val_accuracy: 0.8794\n",
            "Epoch 23/25\n",
            "313/313 [==============================] - 172s 549ms/step - loss: 0.3513 - accuracy: 0.8427 - val_loss: 0.2569 - val_accuracy: 0.8920\n",
            "Epoch 24/25\n",
            "313/313 [==============================] - 171s 547ms/step - loss: 0.3438 - accuracy: 0.8483 - val_loss: 0.2722 - val_accuracy: 0.8904\n",
            "Epoch 25/25\n",
            "313/313 [==============================] - 171s 546ms/step - loss: 0.3377 - accuracy: 0.8563 - val_loss: 0.3080 - val_accuracy: 0.8658\n"
          ],
          "name": "stdout"
        }
      ]
    },
    {
      "cell_type": "code",
      "metadata": {
        "colab": {
          "base_uri": "https://localhost:8080/",
          "height": 35
        },
        "id": "A_zrJ2O_VREj",
        "outputId": "03181cb8-9db2-434b-f1e8-4d887e991c92"
      },
      "source": [
        "\"\"\"function ClickConnect(){\n",
        "    console.log(\"Clicked on connect button\"); \n",
        "    document.querySelector(\"colab-connect-button\").click()\n",
        "}\n",
        "setInterval(ClickConnect,60000)\"\"\"\n"
      ],
      "execution_count": 17,
      "outputs": [
        {
          "output_type": "execute_result",
          "data": {
            "application/vnd.google.colaboratory.intrinsic+json": {
              "type": "string"
            },
            "text/plain": [
              "'function ClickConnect(){\\n    console.log(\"Clicked on connect button\"); \\n    document.querySelector(\"colab-connect-button\").click()\\n}\\nsetInterval(ClickConnect,60000)'"
            ]
          },
          "metadata": {
            "tags": []
          },
          "execution_count": 17
        }
      ]
    },
    {
      "cell_type": "code",
      "metadata": {
        "id": "9tKbfCxQGibY"
      },
      "source": [
        "#save model\n",
        "model.save(\"/content/drive/MyDrive/Excercise_cats_v_dogs_full/cats_vs_dogs.h5\")"
      ],
      "execution_count": 21,
      "outputs": []
    },
    {
      "cell_type": "code",
      "metadata": {
        "colab": {
          "base_uri": "https://localhost:8080/",
          "height": 282
        },
        "id": "fxDG6htvea8B",
        "outputId": "00a5dd1a-31e6-4feb-f3e0-eb99f3ecd58d"
      },
      "source": [
        "#Plot training data\n",
        "accuracy = history.history[\"accuracy\"]\n",
        "loss = history.history[\"loss\"]\n",
        "val_accuracy = history.history[\"val_accuracy\"]\n",
        "val_loss = history.history[\"val_loss\"]\n",
        "plt.plot(accuracy, label=\"accuracy\")\n",
        "plt.plot(loss, label=\"loss\")\n",
        "plt.plot(val_accuracy, label=\"val_accuracy\")\n",
        "plt.plot(val_loss, label=\"val_loss\")\n",
        "plt.legend()"
      ],
      "execution_count": 23,
      "outputs": [
        {
          "output_type": "execute_result",
          "data": {
            "text/plain": [
              "<matplotlib.legend.Legend at 0x7f332a1bbbe0>"
            ]
          },
          "metadata": {
            "tags": []
          },
          "execution_count": 23
        },
        {
          "output_type": "display_data",
          "data": {
            "image/png": "[encoded data removed]",
            "text/plain": [
              "<Figure size 432x288 with 1 Axes>"
            ]
          },
          "metadata": {
            "tags": [],
            "needs_background": "light"
          }
        }
      ]
    }
  ]
}