{
  "nbformat": 4,
  "nbformat_minor": 0,
  "metadata": {
    "accelerator": "GPU",
    "colab": {
      "name": "Kopie von model.ipynb",
      "provenance": []
    },
    "kernelspec": {
      "display_name": "Python 3",
      "language": "python",
      "name": "python3"
    },
    "language_info": {
      "codemirror_mode": {
        "name": "ipython",
        "version": 3
      },
      "file_extension": ".py",
      "mimetype": "text/x-python",
      "name": "python",
      "nbconvert_exporter": "python",
      "pygments_lexer": "ipython3",
      "version": "3.7.9"
    }
  },
  "cells": [
    {
      "cell_type": "code",
      "metadata": {
        "colab": {
          "base_uri": "https://localhost:8080/"
        },
        "id": "CMYNPUsJR0qK",
        "outputId": "19a99855-904c-4a78-c6dc-e35570a79bf0"
      },
      "source": [
        "from google.colab import drive\n",
        "drive.mount('/content/drive')"
      ],
      "execution_count": 87,
      "outputs": [
        {
          "output_type": "stream",
          "text": [
            "Drive already mounted at /content/drive; to attempt to forcibly remount, call drive.mount(\"/content/drive\", force_remount=True).\n"
          ],
          "name": "stdout"
        }
      ]
    },
    {
      "cell_type": "code",
      "metadata": {
        "id": "bwFlS6crRurT"
      },
      "source": [
        "import pandas as pd\n",
        "import matplotlib.pyplot as plt\n",
        "import numpy as np\n",
        "from scipy import stats\n",
        "from sklearn.preprocessing import OneHotEncoder\n",
        "import tensorflow as tf\n",
        "from tensorflow import keras\n",
        "from sklearn.preprocessing import RobustScaler"
      ],
      "execution_count": 88,
      "outputs": []
    },
    {
      "cell_type": "code",
      "metadata": {
        "id": "KBj4v84BRurY"
      },
      "source": [
        "#Load dataset and insert column names, remove the semicolon\n",
        "#Data preprocessing\n",
        "column_names= [\"user_id\", \"activity\", \"timestamp\", \"axis_x\", \"axis_y\", \"axis_z\"]\n",
        "#data = pd.read_csv(\"Dataset/WISDM_ar_v1.1_raw.txt\", header=None, names=column_names, comment=\";\")\n",
        "data = pd.read_csv(\"/content/drive/MyDrive/human_activity_recognition/Dataset/WISDM_ar_v1.1_raw.txt\", header=None, names=column_names, comment=\";\")\n",
        "data.axis_z.replace(regex=True, inplace=True, to_replace=r';', value=r'')\n",
        "data['axis_z'] = data.axis_z.astype(np.float64)\n",
        "data.dropna(axis=0, how='any', inplace=True)"
      ],
      "execution_count": 89,
      "outputs": []
    },
    {
      "cell_type": "code",
      "metadata": {
        "colab": {
          "base_uri": "https://localhost:8080/",
          "height": 204
        },
        "id": "qwTEl0ZpRurY",
        "outputId": "9c88b2fc-01df-4f88-cbbc-8b30f9fc330d"
      },
      "source": [
        "data.head()"
      ],
      "execution_count": 90,
      "outputs": [
        {
          "output_type": "execute_result",
          "data": {
            "text/html": [
              "<div>\n",
              "<style scoped>\n",
              "    .dataframe tbody tr th:only-of-type {\n",
              "        vertical-align: middle;\n",
              "    }\n",
              "\n",
              "    .dataframe tbody tr th {\n",
              "        vertical-align: top;\n",
              "    }\n",
              "\n",
              "    .dataframe thead th {\n",
              "        text-align: right;\n",
              "    }\n",
              "</style>\n",
              "<table border=\"1\" class=\"dataframe\">\n",
              "  <thead>\n",
              "    <tr style=\"text-align: right;\">\n",
              "      <th></th>\n",
              "      <th>user_id</th>\n",
              "      <th>activity</th>\n",
              "      <th>timestamp</th>\n",
              "      <th>axis_x</th>\n",
              "      <th>axis_y</th>\n",
              "      <th>axis_z</th>\n",
              "    </tr>\n",
              "  </thead>\n",
              "  <tbody>\n",
              "    <tr>\n",
              "      <th>0</th>\n",
              "      <td>33</td>\n",
              "      <td>Jogging</td>\n",
              "      <td>49105962326000</td>\n",
              "      <td>-0.694638</td>\n",
              "      <td>12.680544</td>\n",
              "      <td>0.503953</td>\n",
              "    </tr>\n",
              "    <tr>\n",
              "      <th>1</th>\n",
              "      <td>33</td>\n",
              "      <td>Jogging</td>\n",
              "      <td>49106062271000</td>\n",
              "      <td>5.012288</td>\n",
              "      <td>11.264028</td>\n",
              "      <td>0.953424</td>\n",
              "    </tr>\n",
              "    <tr>\n",
              "      <th>2</th>\n",
              "      <td>33</td>\n",
              "      <td>Jogging</td>\n",
              "      <td>49106112167000</td>\n",
              "      <td>4.903325</td>\n",
              "      <td>10.882658</td>\n",
              "      <td>-0.081722</td>\n",
              "    </tr>\n",
              "    <tr>\n",
              "      <th>3</th>\n",
              "      <td>33</td>\n",
              "      <td>Jogging</td>\n",
              "      <td>49106222305000</td>\n",
              "      <td>-0.612916</td>\n",
              "      <td>18.496431</td>\n",
              "      <td>3.023717</td>\n",
              "    </tr>\n",
              "    <tr>\n",
              "      <th>4</th>\n",
              "      <td>33</td>\n",
              "      <td>Jogging</td>\n",
              "      <td>49106332290000</td>\n",
              "      <td>-1.184970</td>\n",
              "      <td>12.108489</td>\n",
              "      <td>7.205164</td>\n",
              "    </tr>\n",
              "  </tbody>\n",
              "</table>\n",
              "</div>"
            ],
            "text/plain": [
              "   user_id activity       timestamp    axis_x     axis_y    axis_z\n",
              "0       33  Jogging  49105962326000 -0.694638  12.680544  0.503953\n",
              "1       33  Jogging  49106062271000  5.012288  11.264028  0.953424\n",
              "2       33  Jogging  49106112167000  4.903325  10.882658 -0.081722\n",
              "3       33  Jogging  49106222305000 -0.612916  18.496431  3.023717\n",
              "4       33  Jogging  49106332290000 -1.184970  12.108489  7.205164"
            ]
          },
          "metadata": {
            "tags": []
          },
          "execution_count": 90
        }
      ]
    },
    {
      "cell_type": "code",
      "metadata": {
        "id": "oq8qP8WxRurZ"
      },
      "source": [
        "#Plot accelerometer data\n",
        "activity = \"Jogging\"\n",
        "axis_x = data[data['activity'] == activity][['axis_x']][:150]\n",
        "axis_y = data[data['activity'] == activity][['axis_y']][:150]\n",
        "axis_z = data[data['activity'] == activity][['axis_z']][:150]"
      ],
      "execution_count": 91,
      "outputs": []
    },
    {
      "cell_type": "code",
      "metadata": {
        "colab": {
          "base_uri": "https://localhost:8080/",
          "height": 282
        },
        "id": "cIl4BwsgRura",
        "outputId": "e3930701-0fd5-4d1e-e03a-70f6249e2671"
      },
      "source": [
        "plt.plot(axis_x)"
      ],
      "execution_count": 92,
      "outputs": [
        {
          "output_type": "execute_result",
          "data": {
            "text/plain": [
              "[<matplotlib.lines.Line2D at 0x7ff210979940>]"
            ]
          },
          "metadata": {
            "tags": []
          },
          "execution_count": 92
        },
        {
          "output_type": "display_data",
          "data": {
            "image/png": "[encoded data removed]",
            "text/plain": [
              "<Figure size 432x288 with 1 Axes>"
            ]
          },
          "metadata": {
            "tags": [],
            "needs_background": "light"
          }
        }
      ]
    },
    {
      "cell_type": "code",
      "metadata": {
        "colab": {
          "base_uri": "https://localhost:8080/",
          "height": 282
        },
        "id": "ph0UPfq6Rura",
        "outputId": "482b7fc9-8726-4420-8eb1-54e629de8bd6"
      },
      "source": [
        "plt.plot(axis_y)"
      ],
      "execution_count": 93,
      "outputs": [
        {
          "output_type": "execute_result",
          "data": {
            "text/plain": [
              "[<matplotlib.lines.Line2D at 0x7ff21089e3c8>]"
            ]
          },
          "metadata": {
            "tags": []
          },
          "execution_count": 93
        },
        {
          "output_type": "display_data",
          "data": {
            "image/png": "[encoded data removed]",
            "text/plain": [
              "<Figure size 432x288 with 1 Axes>"
            ]
          },
          "metadata": {
            "tags": [],
            "needs_background": "light"
          }
        }
      ]
    },
    {
      "cell_type": "code",
      "metadata": {
        "colab": {
          "base_uri": "https://localhost:8080/",
          "height": 282
        },
        "id": "NA4fAVipRura",
        "outputId": "87cdfd20-e52b-4780-dfdb-94fba0bb9a1b"
      },
      "source": [
        "plt.plot(axis_z)"
      ],
      "execution_count": 94,
      "outputs": [
        {
          "output_type": "execute_result",
          "data": {
            "text/plain": [
              "[<matplotlib.lines.Line2D at 0x7ff210881240>]"
            ]
          },
          "metadata": {
            "tags": []
          },
          "execution_count": 94
        },
        {
          "output_type": "display_data",
          "data": {
            "image/png": "[encoded data removed]",
            "text/plain": [
              "<Figure size 432x288 with 1 Axes>"
            ]
          },
          "metadata": {
            "tags": [],
            "needs_background": "light"
          }
        }
      ]
    },
    {
      "cell_type": "code",
      "metadata": {
        "colab": {
          "base_uri": "https://localhost:8080/"
        },
        "id": "LK2WGOO_Rura",
        "outputId": "15255353-515a-4340-9164-cb7bf4307edd"
      },
      "source": [
        "#How many different persons (id´s) in data\n",
        "unique_id = data.user_id.unique()\n",
        "unique_id_sorted = np.sort(unique_id)\n",
        "print(unique_id_sorted)"
      ],
      "execution_count": 95,
      "outputs": [
        {
          "output_type": "stream",
          "text": [
            "[ 1  2  3  4  5  6  7  8  9 10 11 12 13 14 15 16 17 18 19 20 21 22 23 24\n",
            " 25 26 27 28 29 30 31 32 33 34 35 36]\n"
          ],
          "name": "stdout"
        }
      ]
    },
    {
      "cell_type": "code",
      "metadata": {
        "colab": {
          "base_uri": "https://localhost:8080/"
        },
        "id": "bmao3ONbRurb",
        "outputId": "a87f8c06-d35f-4813-db25-602b11164063"
      },
      "source": [
        "#How many different activities\n",
        "unique_activity = data.activity.unique()\n",
        "print(unique_activity)\n",
        "activity_dict = {1:\"Jogging\", 2:\"Walking\", 3:\"Upstairs\", 4:\"Downstairs\", 5:\"Sitting\", 6:\"Standing\"}"
      ],
      "execution_count": 96,
      "outputs": [
        {
          "output_type": "stream",
          "text": [
            "['Jogging' 'Walking' 'Upstairs' 'Downstairs' 'Sitting' 'Standing']\n"
          ],
          "name": "stdout"
        }
      ]
    },
    {
      "cell_type": "code",
      "metadata": {
        "colab": {
          "base_uri": "https://localhost:8080/"
        },
        "id": "XOSHKtuuRurb",
        "outputId": "527fb9bc-fa69-4a2f-af24-120b25dff83d"
      },
      "source": [
        "#Split into train and test set\n",
        "train = data[data[\"user_id\"] <= 25]\n",
        "test = data[(data[\"user_id\"] > 25) & (data[\"user_id\"] <= 30)]\n",
        "val = data[data[\"user_id\"] > 30]\n",
        "print(train.shape)\n",
        "print(test.shape)\n",
        "print(val.shape)"
      ],
      "execution_count": 97,
      "outputs": [
        {
          "output_type": "stream",
          "text": [
            "(745886, 6)\n",
            "(152474, 6)\n",
            "(199843, 6)\n"
          ],
          "name": "stdout"
        }
      ]
    },
    {
      "cell_type": "code",
      "metadata": {
        "colab": {
          "base_uri": "https://localhost:8080/"
        },
        "id": "HFkS0rOthmYn",
        "outputId": "13912746-eb58-43cd-accd-1807a682053d"
      },
      "source": [
        "scale_columns = ['axis_x', 'axis_y', 'axis_z']\n",
        "\n",
        "scaler = RobustScaler()\n",
        "\n",
        "scaler = scaler.fit(train[scale_columns])\n",
        "\n",
        "train.loc[:, scale_columns] = scaler.transform(train[scale_columns].to_numpy())\n",
        "test.loc[:, scale_columns] = scaler.transform(test[scale_columns].to_numpy())\n",
        "val.loc[:, scale_columns] = scaler.transform(val[scale_columns].to_numpy())"
      ],
      "execution_count": 98,
      "outputs": [
        {
          "output_type": "stream",
          "text": [
            "/usr/local/lib/python3.6/dist-packages/pandas/core/indexing.py:1734: SettingWithCopyWarning: \n",
            "A value is trying to be set on a copy of a slice from a DataFrame.\n",
            "Try using .loc[row_indexer,col_indexer] = value instead\n",
            "\n",
            "See the caveats in the documentation: https://pandas.pydata.org/pandas-docs/stable/user_guide/indexing.html#returning-a-view-versus-a-copy\n",
            "  isetter(loc, value[:, i].tolist())\n",
            "/usr/local/lib/python3.6/dist-packages/pandas/core/indexing.py:1734: SettingWithCopyWarning: \n",
            "A value is trying to be set on a copy of a slice from a DataFrame.\n",
            "Try using .loc[row_indexer,col_indexer] = value instead\n",
            "\n",
            "See the caveats in the documentation: https://pandas.pydata.org/pandas-docs/stable/user_guide/indexing.html#returning-a-view-versus-a-copy\n",
            "  isetter(loc, value[:, i].tolist())\n",
            "/usr/local/lib/python3.6/dist-packages/pandas/core/indexing.py:1734: SettingWithCopyWarning: \n",
            "A value is trying to be set on a copy of a slice from a DataFrame.\n",
            "Try using .loc[row_indexer,col_indexer] = value instead\n",
            "\n",
            "See the caveats in the documentation: https://pandas.pydata.org/pandas-docs/stable/user_guide/indexing.html#returning-a-view-versus-a-copy\n",
            "  isetter(loc, value[:, i].tolist())\n"
          ],
          "name": "stderr"
        }
      ]
    },
    {
      "cell_type": "code",
      "metadata": {
        "id": "n7V__aJkRurb"
      },
      "source": [
        "#function to create x and y datasets from the dataframe\n",
        "def create_dataset(x, y):\n",
        "    #function to create x and y datasets from the dataframe\n",
        "    #Input: Dataframe\n",
        "    #Return: list\n",
        "    x_l = []\n",
        "    y_l = []\n",
        "    for i in range(0, len(x)-200, 40):\n",
        "        features = x.iloc[i: (i + 200)].values\n",
        "        labels = y.iloc[i: (i + 200)]\n",
        "        x_l.append(features)\n",
        "        y_l.append(stats.mode(labels)[0][0])\n",
        "    return x_l, y_l"
      ],
      "execution_count": 99,
      "outputs": []
    },
    {
      "cell_type": "code",
      "metadata": {
        "id": "vICdpYLfRurc"
      },
      "source": [
        "x_train_full = train[[\"axis_x\", \"axis_y\", \"axis_z\"]]\n",
        "y_train_full = train[\"activity\"]\n",
        "x_train, y_train = create_dataset(x_train_full, y_train_full)"
      ],
      "execution_count": 100,
      "outputs": []
    },
    {
      "cell_type": "code",
      "metadata": {
        "id": "3aaRffCmRurc"
      },
      "source": [
        "x_train = np.array(x_train)\n",
        "y_train = np.array(y_train)\n",
        "y_train = y_train.reshape(-1,1)"
      ],
      "execution_count": 101,
      "outputs": []
    },
    {
      "cell_type": "code",
      "metadata": {
        "colab": {
          "base_uri": "https://localhost:8080/"
        },
        "id": "Cwz4nmETRurc",
        "outputId": "3a85a397-018c-45d4-957a-e04a03a8a99e"
      },
      "source": [
        "print(x_train.shape)\n",
        "print(y_train.shape)"
      ],
      "execution_count": 102,
      "outputs": [
        {
          "output_type": "stream",
          "text": [
            "(18643, 200, 3)\n",
            "(18643, 1)\n"
          ],
          "name": "stdout"
        }
      ]
    },
    {
      "cell_type": "code",
      "metadata": {
        "id": "7GnI-qzdRurc"
      },
      "source": [
        "x_test_full = test[[\"axis_x\", \"axis_y\", \"axis_z\"]]\n",
        "y_test_full = test[\"activity\"]\n",
        "x_test, y_test = create_dataset(x_test_full, y_test_full)"
      ],
      "execution_count": 103,
      "outputs": []
    },
    {
      "cell_type": "code",
      "metadata": {
        "id": "jGKt6X68Rurd"
      },
      "source": [
        "x_test = np.array(x_test)\n",
        "y_test = np.array(y_test)\n",
        "y_test = y_test.reshape(-1,1)"
      ],
      "execution_count": 104,
      "outputs": []
    },
    {
      "cell_type": "code",
      "metadata": {
        "colab": {
          "base_uri": "https://localhost:8080/"
        },
        "id": "Bi8ZeL5rRurd",
        "outputId": "6abcb313-bdd8-4734-c847-acc3233cdf54"
      },
      "source": [
        "print(x_test.shape)\n",
        "print(y_test.shape)"
      ],
      "execution_count": 105,
      "outputs": [
        {
          "output_type": "stream",
          "text": [
            "(3807, 200, 3)\n",
            "(3807, 1)\n"
          ],
          "name": "stdout"
        }
      ]
    },
    {
      "cell_type": "code",
      "metadata": {
        "id": "bpdGA_axVfmd"
      },
      "source": [
        "x_val_full = val[[\"axis_x\", \"axis_y\", \"axis_z\"]]\n",
        "y_val_full = val[\"activity\"]\n",
        "x_val, y_val = create_dataset(x_val_full, y_val_full)"
      ],
      "execution_count": 106,
      "outputs": []
    },
    {
      "cell_type": "code",
      "metadata": {
        "id": "kYtL2wHpVpXK"
      },
      "source": [
        "x_val = np.array(x_val)\n",
        "y_val = np.array(y_val)\n",
        "y_val = y_val.reshape(-1,1)"
      ],
      "execution_count": 107,
      "outputs": []
    },
    {
      "cell_type": "code",
      "metadata": {
        "colab": {
          "base_uri": "https://localhost:8080/"
        },
        "id": "6pvoYXNbVxQh",
        "outputId": "de5ff253-f4db-48f3-8330-1f53b61bcbe9"
      },
      "source": [
        "print(x_val.shape)\n",
        "print(y_val.shape)"
      ],
      "execution_count": 108,
      "outputs": [
        {
          "output_type": "stream",
          "text": [
            "(4992, 200, 3)\n",
            "(4992, 1)\n"
          ],
          "name": "stdout"
        }
      ]
    },
    {
      "cell_type": "code",
      "metadata": {
        "colab": {
          "base_uri": "https://localhost:8080/"
        },
        "id": "PzuzRLLrRurd",
        "outputId": "bb1630e2-c0a8-4cce-9efe-38e179644354"
      },
      "source": [
        "#One-Hot-Encoding of data labels\n",
        "enc = OneHotEncoder(handle_unknown='ignore', sparse=False)\n",
        "\n",
        "enc = enc.fit(y_train)\n",
        "\n",
        "y_train = enc.transform(y_train)\n",
        "y_test = enc.transform(y_test)\n",
        "y_val = enc.transform(y_val)\n",
        "y_train.shape"
      ],
      "execution_count": 109,
      "outputs": [
        {
          "output_type": "execute_result",
          "data": {
            "text/plain": [
              "(18643, 6)"
            ]
          },
          "metadata": {
            "tags": []
          },
          "execution_count": 109
        }
      ]
    },
    {
      "cell_type": "code",
      "metadata": {
        "id": "y01yVjqVRure"
      },
      "source": [
        "#Create the NN\n",
        "input_ = keras.layers.Input(shape=[x_train.shape[1], x_train.shape[2]])\n",
        "#hidden = keras.layers.LSTM(128, dropout=0.2)(input_)\n",
        "hidden = keras.layers.Bidirectional(keras.layers.LSTM(128, dropout=0.2))(input_)\n",
        "hidden1 = keras.layers.Dropout(rate=0.2)(hidden)\n",
        "hidden2 = keras.layers.Dense(128, activation=\"relu\")(hidden1)\n",
        "hidden3 = keras.layers.Dropout(rate=0.2)(hidden2)\n",
        "hidden4 = keras.layers.Dense(64, activation=\"relu\")(hidden3)\n",
        "hidden5 = keras.layers.Dropout(rate=0.2)(hidden4)\n",
        "hidden6 = keras.layers.Dense(32, activation=\"relu\")(hidden5)\n",
        "hidden7 = keras.layers.Dropout(rate=0.2)(hidden6)\n",
        "output = keras.layers.Dense(y_train.shape[1], activation=\"softmax\")(hidden7)\n",
        "model=keras.Model(inputs=[input_], outputs=[output])"
      ],
      "execution_count": 110,
      "outputs": []
    },
    {
      "cell_type": "code",
      "metadata": {
        "id": "qz9u6ff4Rure"
      },
      "source": [
        "model.compile(loss=\"categorical_crossentropy\", optimizer=\"adam\", metrics=[\"accuracy\"])"
      ],
      "execution_count": 111,
      "outputs": []
    },
    {
      "cell_type": "code",
      "metadata": {
        "colab": {
          "base_uri": "https://localhost:8080/"
        },
        "id": "lRb32HvGRure",
        "outputId": "33bd4361-f49b-46e2-e792-6f57664014df"
      },
      "source": [
        "model.summary()"
      ],
      "execution_count": 112,
      "outputs": [
        {
          "output_type": "stream",
          "text": [
            "Model: \"functional_9\"\n",
            "_________________________________________________________________\n",
            "Layer (type)                 Output Shape              Param #   \n",
            "=================================================================\n",
            "input_5 (InputLayer)         [(None, 200, 3)]          0         \n",
            "_________________________________________________________________\n",
            "bidirectional_4 (Bidirection (None, 256)               135168    \n",
            "_________________________________________________________________\n",
            "dropout_18 (Dropout)         (None, 256)               0         \n",
            "_________________________________________________________________\n",
            "dense_20 (Dense)             (None, 128)               32896     \n",
            "_________________________________________________________________\n",
            "dropout_19 (Dropout)         (None, 128)               0         \n",
            "_________________________________________________________________\n",
            "dense_21 (Dense)             (None, 64)                8256      \n",
            "_________________________________________________________________\n",
            "dropout_20 (Dropout)         (None, 64)                0         \n",
            "_________________________________________________________________\n",
            "dense_22 (Dense)             (None, 32)                2080      \n",
            "_________________________________________________________________\n",
            "dropout_21 (Dropout)         (None, 32)                0         \n",
            "_________________________________________________________________\n",
            "dense_23 (Dense)             (None, 6)                 198       \n",
            "=================================================================\n",
            "Total params: 178,598\n",
            "Trainable params: 178,598\n",
            "Non-trainable params: 0\n",
            "_________________________________________________________________\n"
          ],
          "name": "stdout"
        }
      ]
    },
    {
      "cell_type": "code",
      "metadata": {
        "id": "qOaJ-SVJRure"
      },
      "source": [
        "early_stopping_cb = keras.callbacks.EarlyStopping(patience=10,restore_best_weights=True)"
      ],
      "execution_count": 113,
      "outputs": []
    },
    {
      "cell_type": "code",
      "metadata": {
        "colab": {
          "base_uri": "https://localhost:8080/"
        },
        "id": "gqQ9MTmIRure",
        "outputId": "074960cc-66d5-4146-91c5-a4248b5e4c5a"
      },
      "source": [
        "history = model.fit(x_train, y_train, validation_data=(x_val, y_val), epochs=100, callbacks=[early_stopping_cb], batch_size=64)"
      ],
      "execution_count": 114,
      "outputs": [
        {
          "output_type": "stream",
          "text": [
            "Epoch 1/100\n",
            "292/292 [==============================] - ETA: 0s - loss: 1.1154 - accuracy: 0.6294WARNING:tensorflow:Callbacks method `on_test_batch_end` is slow compared to the batch time (batch time: 0.0099s vs `on_test_batch_end` time: 0.0186s). Check your callbacks.\n",
            "292/292 [==============================] - 30s 103ms/step - loss: 1.1154 - accuracy: 0.6294 - val_loss: 0.9973 - val_accuracy: 0.6857\n",
            "Epoch 2/100\n",
            "292/292 [==============================] - 27s 92ms/step - loss: 0.8807 - accuracy: 0.7009 - val_loss: 0.9081 - val_accuracy: 0.6707\n",
            "Epoch 3/100\n",
            "292/292 [==============================] - 26s 90ms/step - loss: 0.6188 - accuracy: 0.7859 - val_loss: 0.7634 - val_accuracy: 0.7540\n",
            "Epoch 4/100\n",
            "292/292 [==============================] - 26s 88ms/step - loss: 0.5124 - accuracy: 0.8181 - val_loss: 0.7804 - val_accuracy: 0.7819\n",
            "Epoch 5/100\n",
            "292/292 [==============================] - 25s 84ms/step - loss: 0.4975 - accuracy: 0.8227 - val_loss: 0.6947 - val_accuracy: 0.7660\n",
            "Epoch 6/100\n",
            "292/292 [==============================] - 25s 85ms/step - loss: 0.4212 - accuracy: 0.8483 - val_loss: 0.6517 - val_accuracy: 0.8207\n",
            "Epoch 7/100\n",
            "292/292 [==============================] - 25s 85ms/step - loss: 0.4170 - accuracy: 0.8546 - val_loss: 0.9732 - val_accuracy: 0.7202\n",
            "Epoch 8/100\n",
            "292/292 [==============================] - 25s 85ms/step - loss: 0.3761 - accuracy: 0.8695 - val_loss: 0.5085 - val_accuracy: 0.8385\n",
            "Epoch 9/100\n",
            "292/292 [==============================] - 25s 84ms/step - loss: 0.3167 - accuracy: 0.8795 - val_loss: 0.6568 - val_accuracy: 0.8153\n",
            "Epoch 10/100\n",
            "292/292 [==============================] - 25s 85ms/step - loss: 0.3816 - accuracy: 0.8661 - val_loss: 0.6301 - val_accuracy: 0.7748\n",
            "Epoch 11/100\n",
            "292/292 [==============================] - 25s 85ms/step - loss: 0.4088 - accuracy: 0.8492 - val_loss: 0.7819 - val_accuracy: 0.7762\n",
            "Epoch 12/100\n",
            "292/292 [==============================] - 25s 84ms/step - loss: 0.3161 - accuracy: 0.8802 - val_loss: 0.8407 - val_accuracy: 0.7266\n",
            "Epoch 13/100\n",
            "292/292 [==============================] - 25s 85ms/step - loss: 0.3199 - accuracy: 0.8853 - val_loss: 0.5189 - val_accuracy: 0.8640\n",
            "Epoch 14/100\n",
            "292/292 [==============================] - 25s 85ms/step - loss: 0.3440 - accuracy: 0.8783 - val_loss: 0.7759 - val_accuracy: 0.7823\n",
            "Epoch 15/100\n",
            "292/292 [==============================] - 25s 85ms/step - loss: 0.4064 - accuracy: 0.8636 - val_loss: 0.7598 - val_accuracy: 0.7837\n",
            "Epoch 16/100\n",
            "292/292 [==============================] - 25s 85ms/step - loss: 0.3436 - accuracy: 0.8812 - val_loss: 0.5394 - val_accuracy: 0.8638\n",
            "Epoch 17/100\n",
            "292/292 [==============================] - 25s 85ms/step - loss: 0.4056 - accuracy: 0.8561 - val_loss: 0.6760 - val_accuracy: 0.7358\n",
            "Epoch 18/100\n",
            "292/292 [==============================] - 25s 84ms/step - loss: 0.3921 - accuracy: 0.8619 - val_loss: 0.8249 - val_accuracy: 0.8035\n"
          ],
          "name": "stdout"
        }
      ]
    },
    {
      "cell_type": "code",
      "metadata": {
        "id": "ka1dhyaIRure"
      },
      "source": [
        "loss = history.history[\"loss\"]\n",
        "acc = history.history[\"accuracy\"]"
      ],
      "execution_count": 116,
      "outputs": []
    },
    {
      "cell_type": "code",
      "metadata": {
        "id": "Xt2atu08kMo2",
        "colab": {
          "base_uri": "https://localhost:8080/",
          "height": 282
        },
        "outputId": "4a9c2e70-1e07-4617-bdd2-ec8a7d8870d7"
      },
      "source": [
        "plt.plot(loss, label=\"loss\")\n",
        "plt.plot(acc, label=\"acc\")\n",
        "plt.legend()"
      ],
      "execution_count": 117,
      "outputs": [
        {
          "output_type": "execute_result",
          "data": {
            "text/plain": [
              "<matplotlib.legend.Legend at 0x7ff20e7aeb38>"
            ]
          },
          "metadata": {
            "tags": []
          },
          "execution_count": 117
        },
        {
          "output_type": "display_data",
          "data": {
            "image/png": "[encoded data removed]",
            "text/plain": [
              "<Figure size 432x288 with 1 Axes>"
            ]
          },
          "metadata": {
            "tags": [],
            "needs_background": "light"
          }
        }
      ]
    },
    {
      "cell_type": "code",
      "metadata": {
        "id": "4mSvsY11kU7c",
        "colab": {
          "base_uri": "https://localhost:8080/"
        },
        "outputId": "3694112a-0a74-4a14-c22b-5105bc4aa2cf"
      },
      "source": [
        "model.evaluate(x_test, y_test)"
      ],
      "execution_count": 118,
      "outputs": [
        {
          "output_type": "stream",
          "text": [
            "119/119 [==============================] - 4s 35ms/step - loss: 1.0801 - accuracy: 0.7300\n"
          ],
          "name": "stdout"
        },
        {
          "output_type": "execute_result",
          "data": {
            "text/plain": [
              "[1.0801352262496948, 0.7299711108207703]"
            ]
          },
          "metadata": {
            "tags": []
          },
          "execution_count": 118
        }
      ]
    },
    {
      "cell_type": "code",
      "metadata": {
        "id": "40dehhUUtS47"
      },
      "source": [
        ""
      ],
      "execution_count": null,
      "outputs": []
    }
  ]
}